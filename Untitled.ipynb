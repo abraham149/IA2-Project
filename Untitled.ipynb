{
 "cells": [
  {
   "cell_type": "markdown",
   "metadata": {},
   "source": [
    "# Logistic Regression By Hand\n",
    "## Anahuac Dataset"
   ]
  },
  {
   "cell_type": "code",
   "execution_count": 2,
   "metadata": {},
   "outputs": [
    {
     "name": "stdout",
     "output_type": "stream",
     "text": [
      "Collecting matplotlib\n",
      "  Downloading matplotlib-3.4.2-cp38-cp38-win_amd64.whl (7.1 MB)\n",
      "Requirement already satisfied: pillow>=6.2.0 in c:\\users\\labra\\appdata\\local\\programs\\python\\python38\\lib\\site-packages (from matplotlib) (8.2.0)\n",
      "Requirement already satisfied: numpy>=1.16 in c:\\users\\labra\\appdata\\local\\programs\\python\\python38\\lib\\site-packages (from matplotlib) (1.19.5)\n",
      "Requirement already satisfied: python-dateutil>=2.7 in c:\\users\\labra\\appdata\\local\\programs\\python\\python38\\lib\\site-packages (from matplotlib) (2.8.1)\n",
      "Requirement already satisfied: pyparsing>=2.2.1 in c:\\users\\labra\\appdata\\local\\programs\\python\\python38\\lib\\site-packages (from matplotlib) (2.4.7)\n",
      "Collecting kiwisolver>=1.0.1\n",
      "  Downloading kiwisolver-1.3.1-cp38-cp38-win_amd64.whl (51 kB)\n",
      "Collecting cycler>=0.10\n",
      "  Using cached cycler-0.10.0-py2.py3-none-any.whl (6.5 kB)\n",
      "Requirement already satisfied: six in c:\\users\\labra\\appdata\\local\\programs\\python\\python38\\lib\\site-packages (from cycler>=0.10->matplotlib) (1.15.0)\n",
      "Installing collected packages: kiwisolver, cycler, matplotlib\n",
      "Successfully installed cycler-0.10.0 kiwisolver-1.3.1 matplotlib-3.4.2\n"
     ]
    },
    {
     "name": "stderr",
     "output_type": "stream",
     "text": [
      "WARNING: Ignoring invalid distribution -cikit-learn (c:\\users\\labra\\appdata\\local\\programs\\python\\python38\\lib\\site-packages)\n",
      "WARNING: Ignoring invalid distribution -cikit-learn (c:\\users\\labra\\appdata\\local\\programs\\python\\python38\\lib\\site-packages)\n",
      "WARNING: Ignoring invalid distribution -cikit-learn (c:\\users\\labra\\appdata\\local\\programs\\python\\python38\\lib\\site-packages)\n",
      "WARNING: Ignoring invalid distribution -cikit-learn (c:\\users\\labra\\appdata\\local\\programs\\python\\python38\\lib\\site-packages)\n",
      "WARNING: Ignoring invalid distribution -cikit-learn (c:\\users\\labra\\appdata\\local\\programs\\python\\python38\\lib\\site-packages)\n",
      "WARNING: Ignoring invalid distribution -cikit-learn (c:\\users\\labra\\appdata\\local\\programs\\python\\python38\\lib\\site-packages)\n",
      "WARNING: Ignoring invalid distribution -cikit-learn (c:\\users\\labra\\appdata\\local\\programs\\python\\python38\\lib\\site-packages)\n",
      "WARNING: Ignoring invalid distribution -cikit-learn (c:\\users\\labra\\appdata\\local\\programs\\python\\python38\\lib\\site-packages)\n"
     ]
    }
   ],
   "source": [
    "!pip install matplotlib"
   ]
  },
  {
   "cell_type": "code",
   "execution_count": 660,
   "metadata": {},
   "outputs": [
    {
     "name": "stderr",
     "output_type": "stream",
     "text": [
      "WARNING: Ignoring invalid distribution -cikit-learn (c:\\users\\labra\\appdata\\local\\programs\\python\\python38\\lib\\site-packages)\n",
      "WARNING: Ignoring invalid distribution -cikit-learn (c:\\users\\labra\\appdata\\local\\programs\\python\\python38\\lib\\site-packages)\n",
      "ERROR: Could not find a version that satisfies the requirement xgb (from versions: none)\n",
      "ERROR: No matching distribution found for xgb\n",
      "WARNING: Ignoring invalid distribution -cikit-learn (c:\\users\\labra\\appdata\\local\\programs\\python\\python38\\lib\\site-packages)\n",
      "WARNING: Ignoring invalid distribution -cikit-learn (c:\\users\\labra\\appdata\\local\\programs\\python\\python38\\lib\\site-packages)\n"
     ]
    }
   ],
   "source": [
    "!pip install xgb"
   ]
  },
  {
   "cell_type": "code",
   "execution_count": 668,
   "metadata": {},
   "outputs": [],
   "source": [
    "# Import libraries\n",
    "import numpy as np\n",
    "import pandas as pd\n",
    "import sklearn\n",
    "from sklearn.metrics import confusion_matrix\n",
    "from sklearn.model_selection import train_test_split\n",
    "from matplotlib import pyplot as plt\n",
    "import seaborn as sns\n",
    "from xgboost import XGBClassifier"
   ]
  },
  {
   "cell_type": "code",
   "execution_count": 5,
   "metadata": {},
   "outputs": [
    {
     "data": {
      "text/html": [
       "<div>\n",
       "<style scoped>\n",
       "    .dataframe tbody tr th:only-of-type {\n",
       "        vertical-align: middle;\n",
       "    }\n",
       "\n",
       "    .dataframe tbody tr th {\n",
       "        vertical-align: top;\n",
       "    }\n",
       "\n",
       "    .dataframe thead th {\n",
       "        text-align: right;\n",
       "    }\n",
       "</style>\n",
       "<table border=\"1\" class=\"dataframe\">\n",
       "  <thead>\n",
       "    <tr style=\"text-align: right;\">\n",
       "      <th></th>\n",
       "      <th>Unnamed: 0</th>\n",
       "      <th>Graduado</th>\n",
       "      <th>Calificacion_Promedio</th>\n",
       "      <th>Tareas_Puntuales</th>\n",
       "      <th>Tareas_No_Entregadas</th>\n",
       "      <th>Tareas_Retrasadas</th>\n",
       "      <th>Total_Tareas</th>\n",
       "      <th>Dias_Conectado</th>\n",
       "      <th>Minutos_Promedio</th>\n",
       "      <th>Minutos_Total</th>\n",
       "      <th>clase</th>\n",
       "      <th>Año</th>\n",
       "      <th>Mes</th>\n",
       "      <th>CICLO</th>\n",
       "      <th>Org</th>\n",
       "    </tr>\n",
       "  </thead>\n",
       "  <tbody>\n",
       "    <tr>\n",
       "      <th>0</th>\n",
       "      <td>0</td>\n",
       "      <td>Si</td>\n",
       "      <td>65.598667</td>\n",
       "      <td>13.0</td>\n",
       "      <td>2.0</td>\n",
       "      <td>0.0</td>\n",
       "      <td>15.0</td>\n",
       "      <td>32.0</td>\n",
       "      <td>370.231250</td>\n",
       "      <td>11847.40</td>\n",
       "      <td>Liderazgo y Motivación</td>\n",
       "      <td>2017</td>\n",
       "      <td>3</td>\n",
       "      <td>0.375</td>\n",
       "      <td>MER</td>\n",
       "    </tr>\n",
       "    <tr>\n",
       "      <th>1</th>\n",
       "      <td>1</td>\n",
       "      <td>No</td>\n",
       "      <td>86.482222</td>\n",
       "      <td>9.0</td>\n",
       "      <td>0.0</td>\n",
       "      <td>0.0</td>\n",
       "      <td>9.0</td>\n",
       "      <td>50.0</td>\n",
       "      <td>198.717400</td>\n",
       "      <td>9935.87</td>\n",
       "      <td>Finanzas para no Financieros</td>\n",
       "      <td>2017</td>\n",
       "      <td>3</td>\n",
       "      <td>0.375</td>\n",
       "      <td>FZ</td>\n",
       "    </tr>\n",
       "    <tr>\n",
       "      <th>2</th>\n",
       "      <td>2</td>\n",
       "      <td>No</td>\n",
       "      <td>63.196667</td>\n",
       "      <td>12.0</td>\n",
       "      <td>2.0</td>\n",
       "      <td>1.0</td>\n",
       "      <td>15.0</td>\n",
       "      <td>22.0</td>\n",
       "      <td>294.535909</td>\n",
       "      <td>6479.79</td>\n",
       "      <td>Liderazgo y Motivación</td>\n",
       "      <td>2017</td>\n",
       "      <td>3</td>\n",
       "      <td>0.375</td>\n",
       "      <td>AN</td>\n",
       "    </tr>\n",
       "    <tr>\n",
       "      <th>3</th>\n",
       "      <td>3</td>\n",
       "      <td>Si</td>\n",
       "      <td>84.988333</td>\n",
       "      <td>8.0</td>\n",
       "      <td>0.0</td>\n",
       "      <td>4.0</td>\n",
       "      <td>12.0</td>\n",
       "      <td>29.0</td>\n",
       "      <td>471.421379</td>\n",
       "      <td>13671.22</td>\n",
       "      <td>La Tecnología en la Educación</td>\n",
       "      <td>2017</td>\n",
       "      <td>3</td>\n",
       "      <td>0.375</td>\n",
       "      <td>EDU</td>\n",
       "    </tr>\n",
       "    <tr>\n",
       "      <th>4</th>\n",
       "      <td>4</td>\n",
       "      <td>Si</td>\n",
       "      <td>68.542667</td>\n",
       "      <td>11.0</td>\n",
       "      <td>3.0</td>\n",
       "      <td>1.0</td>\n",
       "      <td>15.0</td>\n",
       "      <td>31.0</td>\n",
       "      <td>306.023226</td>\n",
       "      <td>9486.72</td>\n",
       "      <td>Liderazgo y Motivación</td>\n",
       "      <td>2017</td>\n",
       "      <td>3</td>\n",
       "      <td>0.375</td>\n",
       "      <td>EDU</td>\n",
       "    </tr>\n",
       "  </tbody>\n",
       "</table>\n",
       "</div>"
      ],
      "text/plain": [
       "   Unnamed: 0 Graduado  Calificacion_Promedio  Tareas_Puntuales  \\\n",
       "0           0       Si              65.598667              13.0   \n",
       "1           1       No              86.482222               9.0   \n",
       "2           2       No              63.196667              12.0   \n",
       "3           3       Si              84.988333               8.0   \n",
       "4           4       Si              68.542667              11.0   \n",
       "\n",
       "   Tareas_No_Entregadas  Tareas_Retrasadas  Total_Tareas  Dias_Conectado  \\\n",
       "0                   2.0                0.0          15.0            32.0   \n",
       "1                   0.0                0.0           9.0            50.0   \n",
       "2                   2.0                1.0          15.0            22.0   \n",
       "3                   0.0                4.0          12.0            29.0   \n",
       "4                   3.0                1.0          15.0            31.0   \n",
       "\n",
       "   Minutos_Promedio  Minutos_Total                          clase   Año  Mes  \\\n",
       "0        370.231250       11847.40         Liderazgo y Motivación  2017    3   \n",
       "1        198.717400        9935.87   Finanzas para no Financieros  2017    3   \n",
       "2        294.535909        6479.79         Liderazgo y Motivación  2017    3   \n",
       "3        471.421379       13671.22  La Tecnología en la Educación  2017    3   \n",
       "4        306.023226        9486.72         Liderazgo y Motivación  2017    3   \n",
       "\n",
       "   CICLO  Org  \n",
       "0  0.375  MER  \n",
       "1  0.375   FZ  \n",
       "2  0.375   AN  \n",
       "3  0.375  EDU  \n",
       "4  0.375  EDU  "
      ]
     },
     "execution_count": 5,
     "metadata": {},
     "output_type": "execute_result"
    }
   ],
   "source": [
    "#Import data\n",
    "df = pd.read_csv(\"AnahuacFull.csv\")\n",
    "df.head()"
   ]
  },
  {
   "cell_type": "code",
   "execution_count": 6,
   "metadata": {},
   "outputs": [
    {
     "data": {
      "text/plain": [
       "Index(['Unnamed: 0', 'Graduado', 'Calificacion_Promedio', 'Tareas_Puntuales',\n",
       "       'Tareas_No_Entregadas', 'Tareas_Retrasadas', 'Total_Tareas',\n",
       "       'Dias_Conectado', 'Minutos_Promedio', 'Minutos_Total', 'clase', 'Año',\n",
       "       'Mes', 'CICLO', 'Org'],\n",
       "      dtype='object')"
      ]
     },
     "execution_count": 6,
     "metadata": {},
     "output_type": "execute_result"
    }
   ],
   "source": [
    "df.columns"
   ]
  },
  {
   "cell_type": "code",
   "execution_count": 53,
   "metadata": {},
   "outputs": [
    {
     "data": {
      "text/plain": [
       "<seaborn.axisgrid.FacetGrid at 0x2dcf50d1f10>"
      ]
     },
     "execution_count": 53,
     "metadata": {},
     "output_type": "execute_result"
    },
    {
     "data": {
      "image/png": "[encoded data removed]",
      "text/plain": [
       "<Figure size 417.25x360 with 1 Axes>"
      ]
     },
     "metadata": {
      "needs_background": "light"
     },
     "output_type": "display_data"
    }
   ],
   "source": [
    "# Plot Grades vs Organization vs Graduado\n",
    "sns.catplot(x=\"Org\", y=\"Calificacion_Promedio\", hue=\"Graduado\", kind=\"swarm\", data=df)"
   ]
  },
  {
   "cell_type": "code",
   "execution_count": 8,
   "metadata": {},
   "outputs": [
    {
     "data": {
      "text/html": [
       "<div>\n",
       "<style scoped>\n",
       "    .dataframe tbody tr th:only-of-type {\n",
       "        vertical-align: middle;\n",
       "    }\n",
       "\n",
       "    .dataframe tbody tr th {\n",
       "        vertical-align: top;\n",
       "    }\n",
       "\n",
       "    .dataframe thead th {\n",
       "        text-align: right;\n",
       "    }\n",
       "</style>\n",
       "<table border=\"1\" class=\"dataframe\">\n",
       "  <thead>\n",
       "    <tr style=\"text-align: right;\">\n",
       "      <th></th>\n",
       "      <th>Unnamed: 0</th>\n",
       "      <th>Calificacion_Promedio</th>\n",
       "      <th>Tareas_Puntuales</th>\n",
       "      <th>Tareas_No_Entregadas</th>\n",
       "      <th>Tareas_Retrasadas</th>\n",
       "      <th>Total_Tareas</th>\n",
       "      <th>Dias_Conectado</th>\n",
       "      <th>Minutos_Promedio</th>\n",
       "      <th>Minutos_Total</th>\n",
       "      <th>Año</th>\n",
       "      <th>Mes</th>\n",
       "      <th>CICLO</th>\n",
       "      <th>Target</th>\n",
       "    </tr>\n",
       "  </thead>\n",
       "  <tbody>\n",
       "    <tr>\n",
       "      <th>Unnamed: 0</th>\n",
       "      <td>1.000000</td>\n",
       "      <td>-0.061552</td>\n",
       "      <td>0.116217</td>\n",
       "      <td>0.081776</td>\n",
       "      <td>-0.038467</td>\n",
       "      <td>0.235884</td>\n",
       "      <td>-0.089299</td>\n",
       "      <td>0.062856</td>\n",
       "      <td>-0.041790</td>\n",
       "      <td>0.681763</td>\n",
       "      <td>0.590413</td>\n",
       "      <td>0.885884</td>\n",
       "      <td>-0.065543</td>\n",
       "    </tr>\n",
       "    <tr>\n",
       "      <th>Calificacion_Promedio</th>\n",
       "      <td>-0.061552</td>\n",
       "      <td>1.000000</td>\n",
       "      <td>0.753701</td>\n",
       "      <td>-0.898513</td>\n",
       "      <td>-0.062307</td>\n",
       "      <td>-0.110413</td>\n",
       "      <td>0.588409</td>\n",
       "      <td>0.038412</td>\n",
       "      <td>0.476329</td>\n",
       "      <td>-0.030236</td>\n",
       "      <td>-0.053610</td>\n",
       "      <td>-0.051238</td>\n",
       "      <td>0.552986</td>\n",
       "    </tr>\n",
       "    <tr>\n",
       "      <th>Tareas_Puntuales</th>\n",
       "      <td>0.116217</td>\n",
       "      <td>0.753701</td>\n",
       "      <td>1.000000</td>\n",
       "      <td>-0.662619</td>\n",
       "      <td>-0.138629</td>\n",
       "      <td>0.464040</td>\n",
       "      <td>0.462821</td>\n",
       "      <td>0.132107</td>\n",
       "      <td>0.451852</td>\n",
       "      <td>0.120883</td>\n",
       "      <td>0.021696</td>\n",
       "      <td>0.120918</td>\n",
       "      <td>0.427524</td>\n",
       "    </tr>\n",
       "    <tr>\n",
       "      <th>Tareas_No_Entregadas</th>\n",
       "      <td>0.081776</td>\n",
       "      <td>-0.898513</td>\n",
       "      <td>-0.662619</td>\n",
       "      <td>1.000000</td>\n",
       "      <td>0.031142</td>\n",
       "      <td>0.338991</td>\n",
       "      <td>-0.517712</td>\n",
       "      <td>-0.024078</td>\n",
       "      <td>-0.412987</td>\n",
       "      <td>0.069414</td>\n",
       "      <td>0.045285</td>\n",
       "      <td>0.083736</td>\n",
       "      <td>-0.468256</td>\n",
       "    </tr>\n",
       "    <tr>\n",
       "      <th>Tareas_Retrasadas</th>\n",
       "      <td>-0.038467</td>\n",
       "      <td>-0.062307</td>\n",
       "      <td>-0.138629</td>\n",
       "      <td>0.031142</td>\n",
       "      <td>1.000000</td>\n",
       "      <td>0.062143</td>\n",
       "      <td>-0.084809</td>\n",
       "      <td>0.022031</td>\n",
       "      <td>-0.056462</td>\n",
       "      <td>-0.056421</td>\n",
       "      <td>-0.016691</td>\n",
       "      <td>-0.059298</td>\n",
       "      <td>-0.100684</td>\n",
       "    </tr>\n",
       "    <tr>\n",
       "      <th>Total_Tareas</th>\n",
       "      <td>0.235884</td>\n",
       "      <td>-0.110413</td>\n",
       "      <td>0.464040</td>\n",
       "      <td>0.338991</td>\n",
       "      <td>0.062143</td>\n",
       "      <td>1.000000</td>\n",
       "      <td>-0.037221</td>\n",
       "      <td>0.143959</td>\n",
       "      <td>0.077542</td>\n",
       "      <td>0.223673</td>\n",
       "      <td>0.077369</td>\n",
       "      <td>0.239955</td>\n",
       "      <td>-0.027177</td>\n",
       "    </tr>\n",
       "    <tr>\n",
       "      <th>Dias_Conectado</th>\n",
       "      <td>-0.089299</td>\n",
       "      <td>0.588409</td>\n",
       "      <td>0.462821</td>\n",
       "      <td>-0.517712</td>\n",
       "      <td>-0.084809</td>\n",
       "      <td>-0.037221</td>\n",
       "      <td>1.000000</td>\n",
       "      <td>-0.108876</td>\n",
       "      <td>0.766813</td>\n",
       "      <td>-0.022317</td>\n",
       "      <td>-0.059949</td>\n",
       "      <td>-0.046697</td>\n",
       "      <td>0.597712</td>\n",
       "    </tr>\n",
       "    <tr>\n",
       "      <th>Minutos_Promedio</th>\n",
       "      <td>0.062856</td>\n",
       "      <td>0.038412</td>\n",
       "      <td>0.132107</td>\n",
       "      <td>-0.024078</td>\n",
       "      <td>0.022031</td>\n",
       "      <td>0.143959</td>\n",
       "      <td>-0.108876</td>\n",
       "      <td>1.000000</td>\n",
       "      <td>0.419386</td>\n",
       "      <td>0.042163</td>\n",
       "      <td>0.021863</td>\n",
       "      <td>0.048404</td>\n",
       "      <td>-0.096152</td>\n",
       "    </tr>\n",
       "    <tr>\n",
       "      <th>Minutos_Total</th>\n",
       "      <td>-0.041790</td>\n",
       "      <td>0.476329</td>\n",
       "      <td>0.451852</td>\n",
       "      <td>-0.412987</td>\n",
       "      <td>-0.056462</td>\n",
       "      <td>0.077542</td>\n",
       "      <td>0.766813</td>\n",
       "      <td>0.419386</td>\n",
       "      <td>1.000000</td>\n",
       "      <td>0.000568</td>\n",
       "      <td>-0.041540</td>\n",
       "      <td>-0.017575</td>\n",
       "      <td>0.414510</td>\n",
       "    </tr>\n",
       "    <tr>\n",
       "      <th>Año</th>\n",
       "      <td>0.681763</td>\n",
       "      <td>-0.030236</td>\n",
       "      <td>0.120883</td>\n",
       "      <td>0.069414</td>\n",
       "      <td>-0.056421</td>\n",
       "      <td>0.223673</td>\n",
       "      <td>-0.022317</td>\n",
       "      <td>0.042163</td>\n",
       "      <td>0.000568</td>\n",
       "      <td>1.000000</td>\n",
       "      <td>-0.049876</td>\n",
       "      <td>0.900359</td>\n",
       "      <td>-0.047841</td>\n",
       "    </tr>\n",
       "    <tr>\n",
       "      <th>Mes</th>\n",
       "      <td>0.590413</td>\n",
       "      <td>-0.053610</td>\n",
       "      <td>0.021696</td>\n",
       "      <td>0.045285</td>\n",
       "      <td>-0.016691</td>\n",
       "      <td>0.077369</td>\n",
       "      <td>-0.059949</td>\n",
       "      <td>0.021863</td>\n",
       "      <td>-0.041540</td>\n",
       "      <td>-0.049876</td>\n",
       "      <td>1.000000</td>\n",
       "      <td>0.389701</td>\n",
       "      <td>-0.039885</td>\n",
       "    </tr>\n",
       "    <tr>\n",
       "      <th>CICLO</th>\n",
       "      <td>0.885884</td>\n",
       "      <td>-0.051238</td>\n",
       "      <td>0.120918</td>\n",
       "      <td>0.083736</td>\n",
       "      <td>-0.059298</td>\n",
       "      <td>0.239955</td>\n",
       "      <td>-0.046697</td>\n",
       "      <td>0.048404</td>\n",
       "      <td>-0.017575</td>\n",
       "      <td>0.900359</td>\n",
       "      <td>0.389701</td>\n",
       "      <td>1.000000</td>\n",
       "      <td>-0.061492</td>\n",
       "    </tr>\n",
       "    <tr>\n",
       "      <th>Target</th>\n",
       "      <td>-0.065543</td>\n",
       "      <td>0.552986</td>\n",
       "      <td>0.427524</td>\n",
       "      <td>-0.468256</td>\n",
       "      <td>-0.100684</td>\n",
       "      <td>-0.027177</td>\n",
       "      <td>0.597712</td>\n",
       "      <td>-0.096152</td>\n",
       "      <td>0.414510</td>\n",
       "      <td>-0.047841</td>\n",
       "      <td>-0.039885</td>\n",
       "      <td>-0.061492</td>\n",
       "      <td>1.000000</td>\n",
       "    </tr>\n",
       "  </tbody>\n",
       "</table>\n",
       "</div>"
      ],
      "text/plain": [
       "                       Unnamed: 0  Calificacion_Promedio  Tareas_Puntuales  \\\n",
       "Unnamed: 0               1.000000              -0.061552          0.116217   \n",
       "Calificacion_Promedio   -0.061552               1.000000          0.753701   \n",
       "Tareas_Puntuales         0.116217               0.753701          1.000000   \n",
       "Tareas_No_Entregadas     0.081776              -0.898513         -0.662619   \n",
       "Tareas_Retrasadas       -0.038467              -0.062307         -0.138629   \n",
       "Total_Tareas             0.235884              -0.110413          0.464040   \n",
       "Dias_Conectado          -0.089299               0.588409          0.462821   \n",
       "Minutos_Promedio         0.062856               0.038412          0.132107   \n",
       "Minutos_Total           -0.041790               0.476329          0.451852   \n",
       "Año                      0.681763              -0.030236          0.120883   \n",
       "Mes                      0.590413              -0.053610          0.021696   \n",
       "CICLO                    0.885884              -0.051238          0.120918   \n",
       "Target                  -0.065543               0.552986          0.427524   \n",
       "\n",
       "                       Tareas_No_Entregadas  Tareas_Retrasadas  Total_Tareas  \\\n",
       "Unnamed: 0                         0.081776          -0.038467      0.235884   \n",
       "Calificacion_Promedio             -0.898513          -0.062307     -0.110413   \n",
       "Tareas_Puntuales                  -0.662619          -0.138629      0.464040   \n",
       "Tareas_No_Entregadas               1.000000           0.031142      0.338991   \n",
       "Tareas_Retrasadas                  0.031142           1.000000      0.062143   \n",
       "Total_Tareas                       0.338991           0.062143      1.000000   \n",
       "Dias_Conectado                    -0.517712          -0.084809     -0.037221   \n",
       "Minutos_Promedio                  -0.024078           0.022031      0.143959   \n",
       "Minutos_Total                     -0.412987          -0.056462      0.077542   \n",
       "Año                                0.069414          -0.056421      0.223673   \n",
       "Mes                                0.045285          -0.016691      0.077369   \n",
       "CICLO                              0.083736          -0.059298      0.239955   \n",
       "Target                            -0.468256          -0.100684     -0.027177   \n",
       "\n",
       "                       Dias_Conectado  Minutos_Promedio  Minutos_Total  \\\n",
       "Unnamed: 0                  -0.089299          0.062856      -0.041790   \n",
       "Calificacion_Promedio        0.588409          0.038412       0.476329   \n",
       "Tareas_Puntuales             0.462821          0.132107       0.451852   \n",
       "Tareas_No_Entregadas        -0.517712         -0.024078      -0.412987   \n",
       "Tareas_Retrasadas           -0.084809          0.022031      -0.056462   \n",
       "Total_Tareas                -0.037221          0.143959       0.077542   \n",
       "Dias_Conectado               1.000000         -0.108876       0.766813   \n",
       "Minutos_Promedio            -0.108876          1.000000       0.419386   \n",
       "Minutos_Total                0.766813          0.419386       1.000000   \n",
       "Año                         -0.022317          0.042163       0.000568   \n",
       "Mes                         -0.059949          0.021863      -0.041540   \n",
       "CICLO                       -0.046697          0.048404      -0.017575   \n",
       "Target                       0.597712         -0.096152       0.414510   \n",
       "\n",
       "                            Año       Mes     CICLO    Target  \n",
       "Unnamed: 0             0.681763  0.590413  0.885884 -0.065543  \n",
       "Calificacion_Promedio -0.030236 -0.053610 -0.051238  0.552986  \n",
       "Tareas_Puntuales       0.120883  0.021696  0.120918  0.427524  \n",
       "Tareas_No_Entregadas   0.069414  0.045285  0.083736 -0.468256  \n",
       "Tareas_Retrasadas     -0.056421 -0.016691 -0.059298 -0.100684  \n",
       "Total_Tareas           0.223673  0.077369  0.239955 -0.027177  \n",
       "Dias_Conectado        -0.022317 -0.059949 -0.046697  0.597712  \n",
       "Minutos_Promedio       0.042163  0.021863  0.048404 -0.096152  \n",
       "Minutos_Total          0.000568 -0.041540 -0.017575  0.414510  \n",
       "Año                    1.000000 -0.049876  0.900359 -0.047841  \n",
       "Mes                   -0.049876  1.000000  0.389701 -0.039885  \n",
       "CICLO                  0.900359  0.389701  1.000000 -0.061492  \n",
       "Target                -0.047841 -0.039885 -0.061492  1.000000  "
      ]
     },
     "execution_count": 8,
     "metadata": {},
     "output_type": "execute_result"
    }
   ],
   "source": [
    "df2 = df.copy()\n",
    "df2[\"Target\"] = df2[\"Graduado\"].astype(\"category\").cat.codes\n",
    "df2.corr()"
   ]
  },
  {
   "cell_type": "code",
   "execution_count": 54,
   "metadata": {},
   "outputs": [
    {
     "data": {
      "text/plain": [
       "<seaborn.axisgrid.FacetGrid at 0x2dcf660c7f0>"
      ]
     },
     "execution_count": 54,
     "metadata": {},
     "output_type": "execute_result"
    },
    {
     "data": {
      "image/png": "[encoded data removed]",
      "text/plain": [
       "<Figure size 417.25x360 with 1 Axes>"
      ]
     },
     "metadata": {
      "needs_background": "light"
     },
     "output_type": "display_data"
    }
   ],
   "source": [
    "# Plot time vs year vs Graduado\n",
    "sns.catplot(x=\"Año\", y=\"Minutos_Total\", hue=\"Graduado\", kind=\"swarm\", data=df)"
   ]
  },
  {
   "cell_type": "code",
   "execution_count": 55,
   "metadata": {},
   "outputs": [
    {
     "data": {
      "text/plain": [
       "<seaborn.axisgrid.FacetGrid at 0x2dcf65f4c10>"
      ]
     },
     "execution_count": 55,
     "metadata": {},
     "output_type": "execute_result"
    },
    {
     "data": {
      "image/png": "[encoded data removed]",
      "text/plain": [
       "<Figure size 417.25x360 with 1 Axes>"
      ]
     },
     "metadata": {
      "needs_background": "light"
     },
     "output_type": "display_data"
    }
   ],
   "source": [
    "# Plot time vs year vs Graduado\n",
    "sns.catplot(x=\"Año\", y=\"Minutos_Total\", hue=\"Graduado\", kind=\"swarm\", data=df)"
   ]
  },
  {
   "cell_type": "code",
   "execution_count": 56,
   "metadata": {},
   "outputs": [
    {
     "data": {
      "text/plain": [
       "<seaborn.axisgrid.FacetGrid at 0x2dcf519f9d0>"
      ]
     },
     "execution_count": 56,
     "metadata": {},
     "output_type": "execute_result"
    },
    {
     "data": {
      "image/png": "[encoded data removed]",
      "text/plain": [
       "<Figure size 417.25x360 with 1 Axes>"
      ]
     },
     "metadata": {
      "needs_background": "light"
     },
     "output_type": "display_data"
    }
   ],
   "source": [
    "df2[\"tareas_score\"] = df2[\"Tareas_Puntuales\"] / df2[\"Total_Tareas\"]\n",
    "sns.catplot(x=\"Mes\", y=\"tareas_score\", hue=\"Graduado\", kind=\"swarm\", data=df2)"
   ]
  },
  {
   "cell_type": "code",
   "execution_count": 12,
   "metadata": {},
   "outputs": [],
   "source": [
    "df2.drop(columns = [\"Unnamed: 0\", \"Tareas_Retrasadas\", \"clase\", \"Target\", \"Tareas_No_Entregadas\", \"Minutos_Total\"], inplace = True)"
   ]
  },
  {
   "cell_type": "code",
   "execution_count": 13,
   "metadata": {},
   "outputs": [
    {
     "data": {
      "text/html": [
       "<div>\n",
       "<style scoped>\n",
       "    .dataframe tbody tr th:only-of-type {\n",
       "        vertical-align: middle;\n",
       "    }\n",
       "\n",
       "    .dataframe tbody tr th {\n",
       "        vertical-align: top;\n",
       "    }\n",
       "\n",
       "    .dataframe thead th {\n",
       "        text-align: right;\n",
       "    }\n",
       "</style>\n",
       "<table border=\"1\" class=\"dataframe\">\n",
       "  <thead>\n",
       "    <tr style=\"text-align: right;\">\n",
       "      <th></th>\n",
       "      <th>Graduado</th>\n",
       "      <th>Calificacion_Promedio</th>\n",
       "      <th>Tareas_Puntuales</th>\n",
       "      <th>Total_Tareas</th>\n",
       "      <th>Dias_Conectado</th>\n",
       "      <th>Minutos_Promedio</th>\n",
       "      <th>Año</th>\n",
       "      <th>Mes</th>\n",
       "      <th>CICLO</th>\n",
       "      <th>Org</th>\n",
       "      <th>tareas_score</th>\n",
       "    </tr>\n",
       "  </thead>\n",
       "  <tbody>\n",
       "    <tr>\n",
       "      <th>0</th>\n",
       "      <td>Si</td>\n",
       "      <td>65.598667</td>\n",
       "      <td>13.0</td>\n",
       "      <td>15.0</td>\n",
       "      <td>32.0</td>\n",
       "      <td>370.231250</td>\n",
       "      <td>0</td>\n",
       "      <td>3</td>\n",
       "      <td>0.375</td>\n",
       "      <td>MER</td>\n",
       "      <td>0.866667</td>\n",
       "    </tr>\n",
       "    <tr>\n",
       "      <th>1</th>\n",
       "      <td>No</td>\n",
       "      <td>86.482222</td>\n",
       "      <td>9.0</td>\n",
       "      <td>9.0</td>\n",
       "      <td>50.0</td>\n",
       "      <td>198.717400</td>\n",
       "      <td>0</td>\n",
       "      <td>3</td>\n",
       "      <td>0.375</td>\n",
       "      <td>FZ</td>\n",
       "      <td>1.000000</td>\n",
       "    </tr>\n",
       "    <tr>\n",
       "      <th>2</th>\n",
       "      <td>No</td>\n",
       "      <td>63.196667</td>\n",
       "      <td>12.0</td>\n",
       "      <td>15.0</td>\n",
       "      <td>22.0</td>\n",
       "      <td>294.535909</td>\n",
       "      <td>0</td>\n",
       "      <td>3</td>\n",
       "      <td>0.375</td>\n",
       "      <td>AN</td>\n",
       "      <td>0.800000</td>\n",
       "    </tr>\n",
       "    <tr>\n",
       "      <th>3</th>\n",
       "      <td>Si</td>\n",
       "      <td>84.988333</td>\n",
       "      <td>8.0</td>\n",
       "      <td>12.0</td>\n",
       "      <td>29.0</td>\n",
       "      <td>471.421379</td>\n",
       "      <td>0</td>\n",
       "      <td>3</td>\n",
       "      <td>0.375</td>\n",
       "      <td>EDU</td>\n",
       "      <td>0.666667</td>\n",
       "    </tr>\n",
       "    <tr>\n",
       "      <th>4</th>\n",
       "      <td>Si</td>\n",
       "      <td>68.542667</td>\n",
       "      <td>11.0</td>\n",
       "      <td>15.0</td>\n",
       "      <td>31.0</td>\n",
       "      <td>306.023226</td>\n",
       "      <td>0</td>\n",
       "      <td>3</td>\n",
       "      <td>0.375</td>\n",
       "      <td>EDU</td>\n",
       "      <td>0.733333</td>\n",
       "    </tr>\n",
       "  </tbody>\n",
       "</table>\n",
       "</div>"
      ],
      "text/plain": [
       "  Graduado  Calificacion_Promedio  Tareas_Puntuales  Total_Tareas  \\\n",
       "0       Si              65.598667              13.0          15.0   \n",
       "1       No              86.482222               9.0           9.0   \n",
       "2       No              63.196667              12.0          15.0   \n",
       "3       Si              84.988333               8.0          12.0   \n",
       "4       Si              68.542667              11.0          15.0   \n",
       "\n",
       "   Dias_Conectado  Minutos_Promedio  Año  Mes  CICLO  Org  tareas_score  \n",
       "0            32.0        370.231250    0    3  0.375  MER      0.866667  \n",
       "1            50.0        198.717400    0    3  0.375   FZ      1.000000  \n",
       "2            22.0        294.535909    0    3  0.375   AN      0.800000  \n",
       "3            29.0        471.421379    0    3  0.375  EDU      0.666667  \n",
       "4            31.0        306.023226    0    3  0.375  EDU      0.733333  "
      ]
     },
     "execution_count": 13,
     "metadata": {},
     "output_type": "execute_result"
    }
   ],
   "source": [
    "df2[\"Año\"] = df2[\"Año\"] - df2[\"Año\"].min()\n",
    "df2.head()"
   ]
  },
  {
   "cell_type": "code",
   "execution_count": 14,
   "metadata": {},
   "outputs": [
    {
     "data": {
      "text/plain": [
       "(8, 9)"
      ]
     },
     "execution_count": 14,
     "metadata": {},
     "output_type": "execute_result"
    }
   ],
   "source": [
    "len(df2[\"Mes\"].unique()), len(df2[\"Org\"].unique())"
   ]
  },
  {
   "cell_type": "code",
   "execution_count": 105,
   "metadata": {},
   "outputs": [],
   "source": [
    "df3 = df2.drop(columns = \"Org\")\n",
    "#df3 = pd.get_dummies(df2, columns = [\"Mes\", \"Org\"])"
   ]
  },
  {
   "cell_type": "code",
   "execution_count": 106,
   "metadata": {},
   "outputs": [
    {
     "data": {
      "text/html": [
       "<div>\n",
       "<style scoped>\n",
       "    .dataframe tbody tr th:only-of-type {\n",
       "        vertical-align: middle;\n",
       "    }\n",
       "\n",
       "    .dataframe tbody tr th {\n",
       "        vertical-align: top;\n",
       "    }\n",
       "\n",
       "    .dataframe thead th {\n",
       "        text-align: right;\n",
       "    }\n",
       "</style>\n",
       "<table border=\"1\" class=\"dataframe\">\n",
       "  <thead>\n",
       "    <tr style=\"text-align: right;\">\n",
       "      <th></th>\n",
       "      <th>Graduado</th>\n",
       "      <th>Calificacion_Promedio</th>\n",
       "      <th>Tareas_Puntuales</th>\n",
       "      <th>Total_Tareas</th>\n",
       "      <th>Dias_Conectado</th>\n",
       "      <th>Minutos_Promedio</th>\n",
       "      <th>Año</th>\n",
       "      <th>Mes</th>\n",
       "      <th>CICLO</th>\n",
       "      <th>tareas_score</th>\n",
       "    </tr>\n",
       "  </thead>\n",
       "  <tbody>\n",
       "    <tr>\n",
       "      <th>0</th>\n",
       "      <td>Si</td>\n",
       "      <td>65.598667</td>\n",
       "      <td>13.0</td>\n",
       "      <td>15.0</td>\n",
       "      <td>32.0</td>\n",
       "      <td>370.231250</td>\n",
       "      <td>0</td>\n",
       "      <td>3</td>\n",
       "      <td>0.375</td>\n",
       "      <td>0.866667</td>\n",
       "    </tr>\n",
       "    <tr>\n",
       "      <th>1</th>\n",
       "      <td>No</td>\n",
       "      <td>86.482222</td>\n",
       "      <td>9.0</td>\n",
       "      <td>9.0</td>\n",
       "      <td>50.0</td>\n",
       "      <td>198.717400</td>\n",
       "      <td>0</td>\n",
       "      <td>3</td>\n",
       "      <td>0.375</td>\n",
       "      <td>1.000000</td>\n",
       "    </tr>\n",
       "    <tr>\n",
       "      <th>2</th>\n",
       "      <td>No</td>\n",
       "      <td>63.196667</td>\n",
       "      <td>12.0</td>\n",
       "      <td>15.0</td>\n",
       "      <td>22.0</td>\n",
       "      <td>294.535909</td>\n",
       "      <td>0</td>\n",
       "      <td>3</td>\n",
       "      <td>0.375</td>\n",
       "      <td>0.800000</td>\n",
       "    </tr>\n",
       "    <tr>\n",
       "      <th>3</th>\n",
       "      <td>Si</td>\n",
       "      <td>84.988333</td>\n",
       "      <td>8.0</td>\n",
       "      <td>12.0</td>\n",
       "      <td>29.0</td>\n",
       "      <td>471.421379</td>\n",
       "      <td>0</td>\n",
       "      <td>3</td>\n",
       "      <td>0.375</td>\n",
       "      <td>0.666667</td>\n",
       "    </tr>\n",
       "    <tr>\n",
       "      <th>4</th>\n",
       "      <td>Si</td>\n",
       "      <td>68.542667</td>\n",
       "      <td>11.0</td>\n",
       "      <td>15.0</td>\n",
       "      <td>31.0</td>\n",
       "      <td>306.023226</td>\n",
       "      <td>0</td>\n",
       "      <td>3</td>\n",
       "      <td>0.375</td>\n",
       "      <td>0.733333</td>\n",
       "    </tr>\n",
       "  </tbody>\n",
       "</table>\n",
       "</div>"
      ],
      "text/plain": [
       "  Graduado  Calificacion_Promedio  Tareas_Puntuales  Total_Tareas  \\\n",
       "0       Si              65.598667              13.0          15.0   \n",
       "1       No              86.482222               9.0           9.0   \n",
       "2       No              63.196667              12.0          15.0   \n",
       "3       Si              84.988333               8.0          12.0   \n",
       "4       Si              68.542667              11.0          15.0   \n",
       "\n",
       "   Dias_Conectado  Minutos_Promedio  Año  Mes  CICLO  tareas_score  \n",
       "0            32.0        370.231250    0    3  0.375      0.866667  \n",
       "1            50.0        198.717400    0    3  0.375      1.000000  \n",
       "2            22.0        294.535909    0    3  0.375      0.800000  \n",
       "3            29.0        471.421379    0    3  0.375      0.666667  \n",
       "4            31.0        306.023226    0    3  0.375      0.733333  "
      ]
     },
     "execution_count": 106,
     "metadata": {},
     "output_type": "execute_result"
    }
   ],
   "source": [
    "df3.head()"
   ]
  },
  {
   "cell_type": "code",
   "execution_count": 107,
   "metadata": {},
   "outputs": [
    {
     "data": {
      "text/plain": [
       "0       1\n",
       "1       0\n",
       "2       0\n",
       "3       1\n",
       "4       1\n",
       "       ..\n",
       "2495    0\n",
       "2496    1\n",
       "2497    0\n",
       "2498    1\n",
       "2499    0\n",
       "Length: 2500, dtype: int8"
      ]
     },
     "execution_count": 107,
     "metadata": {},
     "output_type": "execute_result"
    }
   ],
   "source": [
    "y = df3[\"Graduado\"].astype(\"category\").cat.codes\n",
    "y\n"
   ]
  },
  {
   "cell_type": "code",
   "execution_count": 108,
   "metadata": {},
   "outputs": [
    {
     "data": {
      "text/html": [
       "<div>\n",
       "<style scoped>\n",
       "    .dataframe tbody tr th:only-of-type {\n",
       "        vertical-align: middle;\n",
       "    }\n",
       "\n",
       "    .dataframe tbody tr th {\n",
       "        vertical-align: top;\n",
       "    }\n",
       "\n",
       "    .dataframe thead th {\n",
       "        text-align: right;\n",
       "    }\n",
       "</style>\n",
       "<table border=\"1\" class=\"dataframe\">\n",
       "  <thead>\n",
       "    <tr style=\"text-align: right;\">\n",
       "      <th></th>\n",
       "      <th>Calificacion_Promedio</th>\n",
       "      <th>Tareas_Puntuales</th>\n",
       "      <th>Total_Tareas</th>\n",
       "      <th>Dias_Conectado</th>\n",
       "      <th>Minutos_Promedio</th>\n",
       "      <th>Año</th>\n",
       "      <th>Mes</th>\n",
       "      <th>CICLO</th>\n",
       "      <th>tareas_score</th>\n",
       "    </tr>\n",
       "  </thead>\n",
       "  <tbody>\n",
       "    <tr>\n",
       "      <th>0</th>\n",
       "      <td>65.598667</td>\n",
       "      <td>13.0</td>\n",
       "      <td>15.0</td>\n",
       "      <td>32.0</td>\n",
       "      <td>370.231250</td>\n",
       "      <td>0</td>\n",
       "      <td>3</td>\n",
       "      <td>0.375</td>\n",
       "      <td>0.866667</td>\n",
       "    </tr>\n",
       "    <tr>\n",
       "      <th>1</th>\n",
       "      <td>86.482222</td>\n",
       "      <td>9.0</td>\n",
       "      <td>9.0</td>\n",
       "      <td>50.0</td>\n",
       "      <td>198.717400</td>\n",
       "      <td>0</td>\n",
       "      <td>3</td>\n",
       "      <td>0.375</td>\n",
       "      <td>1.000000</td>\n",
       "    </tr>\n",
       "    <tr>\n",
       "      <th>2</th>\n",
       "      <td>63.196667</td>\n",
       "      <td>12.0</td>\n",
       "      <td>15.0</td>\n",
       "      <td>22.0</td>\n",
       "      <td>294.535909</td>\n",
       "      <td>0</td>\n",
       "      <td>3</td>\n",
       "      <td>0.375</td>\n",
       "      <td>0.800000</td>\n",
       "    </tr>\n",
       "    <tr>\n",
       "      <th>3</th>\n",
       "      <td>84.988333</td>\n",
       "      <td>8.0</td>\n",
       "      <td>12.0</td>\n",
       "      <td>29.0</td>\n",
       "      <td>471.421379</td>\n",
       "      <td>0</td>\n",
       "      <td>3</td>\n",
       "      <td>0.375</td>\n",
       "      <td>0.666667</td>\n",
       "    </tr>\n",
       "    <tr>\n",
       "      <th>4</th>\n",
       "      <td>68.542667</td>\n",
       "      <td>11.0</td>\n",
       "      <td>15.0</td>\n",
       "      <td>31.0</td>\n",
       "      <td>306.023226</td>\n",
       "      <td>0</td>\n",
       "      <td>3</td>\n",
       "      <td>0.375</td>\n",
       "      <td>0.733333</td>\n",
       "    </tr>\n",
       "  </tbody>\n",
       "</table>\n",
       "</div>"
      ],
      "text/plain": [
       "   Calificacion_Promedio  Tareas_Puntuales  Total_Tareas  Dias_Conectado  \\\n",
       "0              65.598667              13.0          15.0            32.0   \n",
       "1              86.482222               9.0           9.0            50.0   \n",
       "2              63.196667              12.0          15.0            22.0   \n",
       "3              84.988333               8.0          12.0            29.0   \n",
       "4              68.542667              11.0          15.0            31.0   \n",
       "\n",
       "   Minutos_Promedio  Año  Mes  CICLO  tareas_score  \n",
       "0        370.231250    0    3  0.375      0.866667  \n",
       "1        198.717400    0    3  0.375      1.000000  \n",
       "2        294.535909    0    3  0.375      0.800000  \n",
       "3        471.421379    0    3  0.375      0.666667  \n",
       "4        306.023226    0    3  0.375      0.733333  "
      ]
     },
     "execution_count": 108,
     "metadata": {},
     "output_type": "execute_result"
    }
   ],
   "source": [
    "df3.drop(columns = [\"Graduado\"], inplace = True)\n",
    "df3.head()"
   ]
  },
  {
   "cell_type": "markdown",
   "metadata": {},
   "source": [
    "## The Model"
   ]
  },
  {
   "cell_type": "code",
   "execution_count": 130,
   "metadata": {},
   "outputs": [],
   "source": [
    "from sklearn.model_selection import train_test_split\n",
    "X_train, X_test, y_train, y_test = train_test_split(df3, y, test_size=0.1, random_state=1)\n",
    "val_size = int(len(X_train) * 0.1)\n",
    "X_val = X_train[:val_size]\n",
    "y_val = y_train[:val_size]\n",
    "X_train = X_train[val_size:]\n",
    "y_train = y_train[val_size:]"
   ]
  },
  {
   "cell_type": "code",
   "execution_count": 131,
   "metadata": {},
   "outputs": [
    {
     "data": {
      "text/plain": [
       "(2025, 2025, 225, 225, 250, 250)"
      ]
     },
     "execution_count": 131,
     "metadata": {},
     "output_type": "execute_result"
    }
   ],
   "source": [
    "len(X_train), len(y_train), len(X_val), len(y_val), len(X_test), len(y_test)"
   ]
  },
  {
   "cell_type": "code",
   "execution_count": 132,
   "metadata": {},
   "outputs": [],
   "source": [
    "from sklearn.metrics import classification_report,accuracy_score\n",
    "\n",
    "# Logistic Regression Model\n",
    "class LogisticRegression() :\n",
    "    def __init__( self, lr, iters ) :        \n",
    "        self.lr = lr\n",
    "        self.iters = iters\n",
    "        self.costs_train = []\n",
    "        self.costs_val = []\n",
    "        self.acc_train = []\n",
    "        self.acc_val = []\n",
    "          \n",
    "    def sigmoid(self, Z):\n",
    "        return 1/(1+np.exp(Z*-1))\n",
    "    \n",
    "    def fit( self, X_train, y_train, X_val, y_val,  print_cost = True ) :              \n",
    "        self.m, self.n = X_train.shape        \n",
    "        self.w = np.zeros( self.n )        \n",
    "        self.b = 0        \n",
    "        self.X = X_train        \n",
    "        self.y = y_train\n",
    "        self.X_val = X_val\n",
    "        self.y_val = y_val\n",
    "        self.print_cost = print_cost      \n",
    "        self.optimize()            \n",
    "        return self\n",
    "      \n",
    "    # Return the last metrics for the cost and accuracies\n",
    "    def last_metrics(self):\n",
    "        return [self.costs_train[-1], self.costs_val[-1], self.acc_train[-1], self.acc_val[-1]]\n",
    "        \n",
    "    def optimize( self ):           \n",
    "        for i in range(self.iters):\n",
    "            # Calculate grads\n",
    "            A = self.sigmoid( (self.X @ self.w)+self.b)\n",
    "            dA = (A-self.y.T)\n",
    "            dA = np.reshape(dA,self.m)        \n",
    "            dW = (self.X.T @ dA) /self.m         \n",
    "            db = np.sum(dA)/self.m\n",
    "            # Optimize\n",
    "            self.w -= self.lr*dW    \n",
    "            self.b -= self.lr*db\n",
    "            # Calculate trainning metrics\n",
    "            cost = (-1/self.m) * (np.sum(self.y*np.log(A) + (1-self.y)*np.log(1-A)))\n",
    "            training_acc = accuracy_score(y_train, self.predict(X_train))\n",
    "            # Calculate val metrics\n",
    "            A_val = self.sigmoid( (self.X_val @ self.w)+self.b)\n",
    "            cost_val = cost = (-1/self.m) * (np.sum(self.y_val*np.log(A_val) + (1-self.y_val)*np.log(1-A_val)))\n",
    "            val_acc = accuracy_score(y_val, self.predict(X_val))\n",
    "            if i % 100 == 0:\n",
    "                self.costs_train.append(cost)\n",
    "                self.costs_val.append(cost_val)\n",
    "                self.acc_train.append(training_acc)\n",
    "                self.acc_val.append(val_acc)\n",
    "                \n",
    "            if self.print_cost and i % 100 == 0:\n",
    "                print (\"Iter {}: train cost: {:.5f}, train acc: {:.5f}, val cost: {:.5f}, val acc: {:.5f} \"\n",
    "                       .format(i,cost,training_acc,cost_val, val_acc ) )\n",
    "        return self\n",
    "\n",
    "    #Predict function  \n",
    "    def predict( self, X ) :    \n",
    "        A = self.sigmoid((X @ self.w) +self.b)\n",
    "        Y = np.where(A>0.5,1,0)        \n",
    "        return Y\n"
   ]
  },
  {
   "cell_type": "code",
   "execution_count": 133,
   "metadata": {},
   "outputs": [],
   "source": [
    "model = LogisticRegression(lr = 0.0001, iters = 1000)"
   ]
  },
  {
   "cell_type": "code",
   "execution_count": 134,
   "metadata": {},
   "outputs": [
    {
     "name": "stdout",
     "output_type": "stream",
     "text": [
      "Iter 0: train cost: 0.07482, train acc: 0.71309, val cost: 0.07482, val acc: 0.74222 \n",
      "Iter 100: train cost: 0.05789, train acc: 0.72494, val cost: 0.05789, val acc: 0.75556 \n",
      "Iter 200: train cost: 0.05713, train acc: 0.73136, val cost: 0.05713, val acc: 0.76000 \n",
      "Iter 300: train cost: 0.05661, train acc: 0.73728, val cost: 0.05661, val acc: 0.77778 \n",
      "Iter 400: train cost: 0.05615, train acc: 0.74222, val cost: 0.05615, val acc: 0.77778 \n",
      "Iter 500: train cost: 0.05572, train acc: 0.74469, val cost: 0.05572, val acc: 0.77778 \n",
      "Iter 600: train cost: 0.05533, train acc: 0.74568, val cost: 0.05533, val acc: 0.77778 \n",
      "Iter 700: train cost: 0.05497, train acc: 0.74667, val cost: 0.05497, val acc: 0.77778 \n",
      "Iter 800: train cost: 0.05463, train acc: 0.74716, val cost: 0.05463, val acc: 0.79111 \n",
      "Iter 900: train cost: 0.05432, train acc: 0.74667, val cost: 0.05432, val acc: 0.78222 \n"
     ]
    },
    {
     "data": {
      "text/plain": [
       "<__main__.LogisticRegression at 0x2dcfc0804f0>"
      ]
     },
     "execution_count": 134,
     "metadata": {},
     "output_type": "execute_result"
    }
   ],
   "source": [
    "model.fit(X_train = X_train, y_train = y_train , X_val =  X_val, y_val = y_val)"
   ]
  },
  {
   "cell_type": "code",
   "execution_count": 135,
   "metadata": {},
   "outputs": [
    {
     "name": "stdout",
     "output_type": "stream",
     "text": [
      "0.756\n"
     ]
    }
   ],
   "source": [
    "from sklearn.metrics import classification_report,accuracy_score\n",
    "\n",
    "preds = model.predict(X_test)\n",
    "print(accuracy_score(preds, y_test))"
   ]
  },
  {
   "cell_type": "markdown",
   "metadata": {},
   "source": [
    "## Hyper Parameter Tuning\n",
    "\n",
    "Test with different values for learning_rate and epochs and choose the best parameters"
   ]
  },
  {
   "cell_type": "code",
   "execution_count": 136,
   "metadata": {},
   "outputs": [
    {
     "name": "stdout",
     "output_type": "stream",
     "text": [
      "[0.001, 0.0001, 1e-05] [100, 1000]\n"
     ]
    }
   ],
   "source": [
    "lrs = [1/(10**x) for x in range(3,6)]\n",
    "iters = [ 1*10**x for x in range(2,4) ]\n",
    "print(lrs, iters)"
   ]
  },
  {
   "cell_type": "code",
   "execution_count": 137,
   "metadata": {},
   "outputs": [
    {
     "name": "stdout",
     "output_type": "stream",
     "text": [
      "[0.001, 100, 0.06202979785777573, 0.06202979785777573, 0.7130864197530864, 0.7422222222222222]\n",
      "[0.001, 1000, 0.5049806550273871, 0.5049806550273871, 0.6854320987654321, 0.6666666666666666]\n",
      "[0.0001, 100, 0.07481748299864109, 0.07481748299864109, 0.7130864197530864, 0.7422222222222222]\n",
      "[0.0001, 1000, 0.05431561769972302, 0.05431561769972302, 0.7466666666666667, 0.7822222222222223]\n",
      "[1e-05, 100, 0.07678904463220208, 0.07678904463220208, 0.7130864197530864, 0.7422222222222222]\n",
      "[1e-05, 1000, 0.05802299793200718, 0.05802299793200718, 0.7239506172839506, 0.7511111111111111]\n"
     ]
    }
   ],
   "source": [
    "import warnings\n",
    "warnings.filterwarnings('ignore')\n",
    "\n",
    "hyp_tuning_results = []\n",
    "for lr in lrs:\n",
    "    for it in iters:\n",
    "        new_model = LogisticRegression(lr = lr, iters = it)\n",
    "        new_model.fit(X_train = X_train, y_train = y_train , X_val =  X_val, y_val = y_val, print_cost = False)\n",
    "        last_m = [lr, it]  + new_model.last_metrics()\n",
    "        hyp_tuning_results.append(last_m)\n",
    "        print(last_m)\n",
    "        "
   ]
  },
  {
   "cell_type": "code",
   "execution_count": 138,
   "metadata": {},
   "outputs": [
    {
     "data": {
      "text/html": [
       "<div>\n",
       "<style scoped>\n",
       "    .dataframe tbody tr th:only-of-type {\n",
       "        vertical-align: middle;\n",
       "    }\n",
       "\n",
       "    .dataframe tbody tr th {\n",
       "        vertical-align: top;\n",
       "    }\n",
       "\n",
       "    .dataframe thead th {\n",
       "        text-align: right;\n",
       "    }\n",
       "</style>\n",
       "<table border=\"1\" class=\"dataframe\">\n",
       "  <thead>\n",
       "    <tr style=\"text-align: right;\">\n",
       "      <th></th>\n",
       "      <th>Learning Rate</th>\n",
       "      <th>Epochs</th>\n",
       "      <th>Train Cost</th>\n",
       "      <th>Val Cost</th>\n",
       "      <th>Train Acc</th>\n",
       "      <th>Val Acc</th>\n",
       "    </tr>\n",
       "  </thead>\n",
       "  <tbody>\n",
       "    <tr>\n",
       "      <th>3</th>\n",
       "      <td>0.00010</td>\n",
       "      <td>1000.0</td>\n",
       "      <td>0.054316</td>\n",
       "      <td>0.054316</td>\n",
       "      <td>0.746667</td>\n",
       "      <td>0.782222</td>\n",
       "    </tr>\n",
       "    <tr>\n",
       "      <th>5</th>\n",
       "      <td>0.00001</td>\n",
       "      <td>1000.0</td>\n",
       "      <td>0.058023</td>\n",
       "      <td>0.058023</td>\n",
       "      <td>0.723951</td>\n",
       "      <td>0.751111</td>\n",
       "    </tr>\n",
       "    <tr>\n",
       "      <th>4</th>\n",
       "      <td>0.00001</td>\n",
       "      <td>100.0</td>\n",
       "      <td>0.076789</td>\n",
       "      <td>0.076789</td>\n",
       "      <td>0.713086</td>\n",
       "      <td>0.742222</td>\n",
       "    </tr>\n",
       "    <tr>\n",
       "      <th>2</th>\n",
       "      <td>0.00010</td>\n",
       "      <td>100.0</td>\n",
       "      <td>0.074817</td>\n",
       "      <td>0.074817</td>\n",
       "      <td>0.713086</td>\n",
       "      <td>0.742222</td>\n",
       "    </tr>\n",
       "    <tr>\n",
       "      <th>0</th>\n",
       "      <td>0.00100</td>\n",
       "      <td>100.0</td>\n",
       "      <td>0.062030</td>\n",
       "      <td>0.062030</td>\n",
       "      <td>0.713086</td>\n",
       "      <td>0.742222</td>\n",
       "    </tr>\n",
       "    <tr>\n",
       "      <th>1</th>\n",
       "      <td>0.00100</td>\n",
       "      <td>1000.0</td>\n",
       "      <td>0.504981</td>\n",
       "      <td>0.504981</td>\n",
       "      <td>0.685432</td>\n",
       "      <td>0.666667</td>\n",
       "    </tr>\n",
       "  </tbody>\n",
       "</table>\n",
       "</div>"
      ],
      "text/plain": [
       "   Learning Rate  Epochs  Train Cost  Val Cost  Train Acc   Val Acc\n",
       "3        0.00010  1000.0    0.054316  0.054316   0.746667  0.782222\n",
       "5        0.00001  1000.0    0.058023  0.058023   0.723951  0.751111\n",
       "4        0.00001   100.0    0.076789  0.076789   0.713086  0.742222\n",
       "2        0.00010   100.0    0.074817  0.074817   0.713086  0.742222\n",
       "0        0.00100   100.0    0.062030  0.062030   0.713086  0.742222\n",
       "1        0.00100  1000.0    0.504981  0.504981   0.685432  0.666667"
      ]
     },
     "execution_count": 138,
     "metadata": {},
     "output_type": "execute_result"
    }
   ],
   "source": [
    "results = np.array(hyp_tuning_results)\n",
    "res = pd.DataFrame(data = results, columns = [\"Learning Rate\", \"Epochs\", \"Train Cost\", \"Val Cost\", \"Train Acc\", \"Val Acc\"])\n",
    "res2 = res.sort_values(by=['Val Acc', 'Val Cost'], ascending=False)\n",
    "res2.head(10)"
   ]
  },
  {
   "cell_type": "code",
   "execution_count": 139,
   "metadata": {},
   "outputs": [
    {
     "data": {
      "text/plain": [
       "{'lr': 0.0001, 'iters': 1000}"
      ]
     },
     "execution_count": 139,
     "metadata": {},
     "output_type": "execute_result"
    }
   ],
   "source": [
    "# Best Params\n",
    "best_params = {\"lr\" : 0.0001, \"iters\" : 1000}\n",
    "best_params"
   ]
  },
  {
   "cell_type": "markdown",
   "metadata": {},
   "source": [
    "## Plot Results of best params"
   ]
  },
  {
   "cell_type": "code",
   "execution_count": 140,
   "metadata": {},
   "outputs": [
    {
     "name": "stdout",
     "output_type": "stream",
     "text": [
      "Iter 0: train cost: 0.07482, train acc: 0.71309, val cost: 0.07482, val acc: 0.74222 \n",
      "Iter 100: train cost: 0.05789, train acc: 0.72494, val cost: 0.05789, val acc: 0.75556 \n",
      "Iter 200: train cost: 0.05713, train acc: 0.73136, val cost: 0.05713, val acc: 0.76000 \n",
      "Iter 300: train cost: 0.05661, train acc: 0.73728, val cost: 0.05661, val acc: 0.77778 \n",
      "Iter 400: train cost: 0.05615, train acc: 0.74222, val cost: 0.05615, val acc: 0.77778 \n",
      "Iter 500: train cost: 0.05572, train acc: 0.74469, val cost: 0.05572, val acc: 0.77778 \n",
      "Iter 600: train cost: 0.05533, train acc: 0.74568, val cost: 0.05533, val acc: 0.77778 \n",
      "Iter 700: train cost: 0.05497, train acc: 0.74667, val cost: 0.05497, val acc: 0.77778 \n",
      "Iter 800: train cost: 0.05463, train acc: 0.74716, val cost: 0.05463, val acc: 0.79111 \n",
      "Iter 900: train cost: 0.05432, train acc: 0.74667, val cost: 0.05432, val acc: 0.78222 \n"
     ]
    },
    {
     "data": {
      "text/plain": [
       "<__main__.LogisticRegression at 0x2dcfb2460d0>"
      ]
     },
     "execution_count": 140,
     "metadata": {},
     "output_type": "execute_result"
    }
   ],
   "source": [
    "# Best model\n",
    "best_model = LogisticRegression(**best_params)\n",
    "best_model.fit(X_train = X_train, y_train = y_train , X_val =  X_val, y_val = y_val)"
   ]
  },
  {
   "cell_type": "code",
   "execution_count": 141,
   "metadata": {},
   "outputs": [
    {
     "data": {
      "image/png": "[encoded data removed]",
      "text/plain": [
       "<Figure size 432x288 with 1 Axes>"
      ]
     },
     "metadata": {
      "needs_background": "light"
     },
     "output_type": "display_data"
    }
   ],
   "source": [
    "plt.plot(best_model.costs_train, label = \"Training\")\n",
    "plt.ylabel('Cost')\n",
    "plt.xlabel('iterations (per hundreds)')\n",
    "plt.title(\"Training | Learning rate =\" + str(0.0001))\n",
    "plt.legend()\n",
    "plt.show()"
   ]
  },
  {
   "cell_type": "code",
   "execution_count": 729,
   "metadata": {},
   "outputs": [
    {
     "data": {
      "image/png": "[encoded data removed]",
      "text/plain": [
       "<Figure size 432x288 with 1 Axes>"
      ]
     },
     "metadata": {
      "needs_background": "light"
     },
     "output_type": "display_data"
    }
   ],
   "source": [
    "plt.plot(best_model.costs_val, label = \"Validation\")\n",
    "plt.ylabel('Cost')\n",
    "plt.xlabel('iterations (per hundreds)')\n",
    "plt.title(\"Val | Learning rate =\" + str(0.0001))\n",
    "plt.legend()\n",
    "plt.show()"
   ]
  },
  {
   "cell_type": "code",
   "execution_count": 143,
   "metadata": {},
   "outputs": [
    {
     "data": {
      "image/png": "[encoded data removed]",
      "text/plain": [
       "<Figure size 432x288 with 1 Axes>"
      ]
     },
     "metadata": {
      "needs_background": "light"
     },
     "output_type": "display_data"
    }
   ],
   "source": [
    "plt.plot(best_model.acc_train, label = \"Training\")\n",
    "plt.ylabel('Accuracy')\n",
    "plt.xlabel('iterations (per hundreds)')\n",
    "plt.title(\"Learning rate =\" + str(0.0001))\n",
    "plt.legend()\n",
    "plt.show()"
   ]
  },
  {
   "cell_type": "code",
   "execution_count": 144,
   "metadata": {},
   "outputs": [
    {
     "data": {
      "image/png": "[encoded data removed]",
      "text/plain": [
       "<Figure size 432x288 with 1 Axes>"
      ]
     },
     "metadata": {
      "needs_background": "light"
     },
     "output_type": "display_data"
    }
   ],
   "source": [
    "plt.plot(best_model.acc_val, label = \"Val\")\n",
    "plt.ylabel('Accuracy')\n",
    "plt.xlabel('iterations (per hundreds)')\n",
    "plt.title(\"Learning rate =\" + str(0.0001))\n",
    "plt.legend()\n",
    "plt.show()"
   ]
  },
  {
   "cell_type": "code",
   "execution_count": 145,
   "metadata": {},
   "outputs": [
    {
     "data": {
      "text/plain": [
       "0.756"
      ]
     },
     "execution_count": 145,
     "metadata": {},
     "output_type": "execute_result"
    }
   ],
   "source": [
    "accuracy_score(y_test, best_model.predict(X_test))"
   ]
  },
  {
   "cell_type": "code",
   "execution_count": 146,
   "metadata": {},
   "outputs": [],
   "source": [
    "import pickle\n",
    "def save_object(obj, filename):\n",
    "    with open(filename, 'wb') as output:  # Overwrites any existing file.\n",
    "        pickle.dump(obj, output, pickle.HIGHEST_PROTOCOL)"
   ]
  },
  {
   "cell_type": "code",
   "execution_count": 147,
   "metadata": {},
   "outputs": [],
   "source": [
    "save_object(best_model, \"LogReg_ScratchModel.m\")"
   ]
  },
  {
   "cell_type": "code",
   "execution_count": 148,
   "metadata": {},
   "outputs": [
    {
     "name": "stdout",
     "output_type": "stream",
     "text": [
      "<__main__.LogisticRegression object at 0x000002DCFB315310>\n"
     ]
    }
   ],
   "source": [
    "with open('LogReg_ScratchModel.m', 'rb') as input:\n",
    "    best_model2 = pickle.load(input)\n",
    "    print(best_model2)\n"
   ]
  },
  {
   "cell_type": "code",
   "execution_count": 149,
   "metadata": {},
   "outputs": [
    {
     "data": {
      "text/plain": [
       "Calificacion_Promedio    0.004528\n",
       "Tareas_Puntuales         0.004730\n",
       "Total_Tareas            -0.048206\n",
       "Dias_Conectado           0.034102\n",
       "Minutos_Promedio        -0.003685\n",
       "Año                     -0.009408\n",
       "Mes                     -0.026102\n",
       "CICLO                   -0.012670\n",
       "tareas_score            -0.000470\n",
       "dtype: float64"
      ]
     },
     "execution_count": 149,
     "metadata": {},
     "output_type": "execute_result"
    }
   ],
   "source": [
    "best_model2.w"
   ]
  },
  {
   "cell_type": "markdown",
   "metadata": {},
   "source": []
  },
  {
   "cell_type": "markdown",
   "metadata": {},
   "source": [
    "## Pytorch Model"
   ]
  },
  {
   "cell_type": "code",
   "execution_count": 58,
   "metadata": {},
   "outputs": [
    {
     "data": {
      "text/html": [
       "<div>\n",
       "<style scoped>\n",
       "    .dataframe tbody tr th:only-of-type {\n",
       "        vertical-align: middle;\n",
       "    }\n",
       "\n",
       "    .dataframe tbody tr th {\n",
       "        vertical-align: top;\n",
       "    }\n",
       "\n",
       "    .dataframe thead th {\n",
       "        text-align: right;\n",
       "    }\n",
       "</style>\n",
       "<table border=\"1\" class=\"dataframe\">\n",
       "  <thead>\n",
       "    <tr style=\"text-align: right;\">\n",
       "      <th></th>\n",
       "      <th>Graduado</th>\n",
       "      <th>Calificacion_Promedio</th>\n",
       "      <th>Tareas_Puntuales</th>\n",
       "      <th>Tareas_No_Entregadas</th>\n",
       "      <th>Tareas_Retrasadas</th>\n",
       "      <th>Total_Tareas</th>\n",
       "      <th>Dias_Conectado</th>\n",
       "      <th>Minutos_Promedio</th>\n",
       "      <th>Minutos_Total</th>\n",
       "      <th>Año</th>\n",
       "      <th>Mes</th>\n",
       "      <th>CICLO</th>\n",
       "      <th>Org</th>\n",
       "    </tr>\n",
       "  </thead>\n",
       "  <tbody>\n",
       "    <tr>\n",
       "      <th>0</th>\n",
       "      <td>Si</td>\n",
       "      <td>65.598667</td>\n",
       "      <td>13.0</td>\n",
       "      <td>2.0</td>\n",
       "      <td>0.0</td>\n",
       "      <td>15.0</td>\n",
       "      <td>32.0</td>\n",
       "      <td>370.231250</td>\n",
       "      <td>11847.40</td>\n",
       "      <td>2017</td>\n",
       "      <td>3</td>\n",
       "      <td>0.375</td>\n",
       "      <td>MER</td>\n",
       "    </tr>\n",
       "    <tr>\n",
       "      <th>1</th>\n",
       "      <td>No</td>\n",
       "      <td>86.482222</td>\n",
       "      <td>9.0</td>\n",
       "      <td>0.0</td>\n",
       "      <td>0.0</td>\n",
       "      <td>9.0</td>\n",
       "      <td>50.0</td>\n",
       "      <td>198.717400</td>\n",
       "      <td>9935.87</td>\n",
       "      <td>2017</td>\n",
       "      <td>3</td>\n",
       "      <td>0.375</td>\n",
       "      <td>FZ</td>\n",
       "    </tr>\n",
       "    <tr>\n",
       "      <th>2</th>\n",
       "      <td>No</td>\n",
       "      <td>63.196667</td>\n",
       "      <td>12.0</td>\n",
       "      <td>2.0</td>\n",
       "      <td>1.0</td>\n",
       "      <td>15.0</td>\n",
       "      <td>22.0</td>\n",
       "      <td>294.535909</td>\n",
       "      <td>6479.79</td>\n",
       "      <td>2017</td>\n",
       "      <td>3</td>\n",
       "      <td>0.375</td>\n",
       "      <td>AN</td>\n",
       "    </tr>\n",
       "    <tr>\n",
       "      <th>3</th>\n",
       "      <td>Si</td>\n",
       "      <td>84.988333</td>\n",
       "      <td>8.0</td>\n",
       "      <td>0.0</td>\n",
       "      <td>4.0</td>\n",
       "      <td>12.0</td>\n",
       "      <td>29.0</td>\n",
       "      <td>471.421379</td>\n",
       "      <td>13671.22</td>\n",
       "      <td>2017</td>\n",
       "      <td>3</td>\n",
       "      <td>0.375</td>\n",
       "      <td>EDU</td>\n",
       "    </tr>\n",
       "    <tr>\n",
       "      <th>4</th>\n",
       "      <td>Si</td>\n",
       "      <td>68.542667</td>\n",
       "      <td>11.0</td>\n",
       "      <td>3.0</td>\n",
       "      <td>1.0</td>\n",
       "      <td>15.0</td>\n",
       "      <td>31.0</td>\n",
       "      <td>306.023226</td>\n",
       "      <td>9486.72</td>\n",
       "      <td>2017</td>\n",
       "      <td>3</td>\n",
       "      <td>0.375</td>\n",
       "      <td>EDU</td>\n",
       "    </tr>\n",
       "  </tbody>\n",
       "</table>\n",
       "</div>"
      ],
      "text/plain": [
       "  Graduado  Calificacion_Promedio  Tareas_Puntuales  Tareas_No_Entregadas  \\\n",
       "0       Si              65.598667              13.0                   2.0   \n",
       "1       No              86.482222               9.0                   0.0   \n",
       "2       No              63.196667              12.0                   2.0   \n",
       "3       Si              84.988333               8.0                   0.0   \n",
       "4       Si              68.542667              11.0                   3.0   \n",
       "\n",
       "   Tareas_Retrasadas  Total_Tareas  Dias_Conectado  Minutos_Promedio  \\\n",
       "0                0.0          15.0            32.0        370.231250   \n",
       "1                0.0           9.0            50.0        198.717400   \n",
       "2                1.0          15.0            22.0        294.535909   \n",
       "3                4.0          12.0            29.0        471.421379   \n",
       "4                1.0          15.0            31.0        306.023226   \n",
       "\n",
       "   Minutos_Total   Año  Mes  CICLO  Org  \n",
       "0       11847.40  2017    3  0.375  MER  \n",
       "1        9935.87  2017    3  0.375   FZ  \n",
       "2        6479.79  2017    3  0.375   AN  \n",
       "3       13671.22  2017    3  0.375  EDU  \n",
       "4        9486.72  2017    3  0.375  EDU  "
      ]
     },
     "execution_count": 58,
     "metadata": {},
     "output_type": "execute_result"
    }
   ],
   "source": [
    "df4 = df.copy()\n",
    "df4.drop(columns = [\"Unnamed: 0\", \"clase\"], inplace = True)\n",
    "df4.head()"
   ]
  },
  {
   "cell_type": "code",
   "execution_count": 60,
   "metadata": {},
   "outputs": [
    {
     "name": "stdout",
     "output_type": "stream",
     "text": [
      "Graduado: \t 2\n",
      "Calificacion_Promedio: \t 1576\n",
      "Tareas_Puntuales: \t 22\n",
      "Tareas_No_Entregadas: \t 22\n",
      "Tareas_Retrasadas: \t 10\n",
      "Total_Tareas: \t 19\n",
      "Dias_Conectado: \t 152\n",
      "Minutos_Promedio: \t 2496\n",
      "Minutos_Total: \t 2495\n",
      "Año: \t 3\n",
      "Mes: \t 8\n",
      "CICLO: \t 22\n",
      "Org: \t 9\n"
     ]
    }
   ],
   "source": [
    "for c in df4.columns:\n",
    "    print(\"{}: \\t {}\".format(c, len(df4[c].unique()) ))"
   ]
  },
  {
   "cell_type": "markdown",
   "metadata": {},
   "source": [
    "There are some Categorical variables and it may not be great to one-hot encode them or label encode them, as there would be too many features for a single information point.\n",
    "\n",
    "For DNN there's a method called Categorical Embedding, where an Embedding layers is applied to the categorical data, similar as with nlp models with word2vec. \n",
    "It adds some complexity to the model and helps it learn interactions between categories (Ex. days of the week, etc.)\n",
    "\n",
    "Some sources consulted:\n",
    "https://towardsdatascience.com/how-to-gain-state-of-the-art-result-on-tabular-data-with-deep-learning-and-embedding-layers-d1eb6b83c52c\n",
    "https://www.fast.ai/2018/04/29/categorical-embeddings/\n",
    "\n",
    "What this model is about:\n",
    "- Embedding Layer for YEar, Month and Org\n",
    "- Regular  FFNN for the combined data\n",
    "- Dense layer for the last one as it is a classification task\n"
   ]
  },
  {
   "cell_type": "code",
   "execution_count": 62,
   "metadata": {},
   "outputs": [],
   "source": [
    "import torch\n",
    "import torch.nn as nn\n",
    "import torch.nn.functional as F"
   ]
  },
  {
   "cell_type": "code",
   "execution_count": 150,
   "metadata": {},
   "outputs": [
    {
     "data": {
      "text/plain": [
       "Index(['Graduado', 'Calificacion_Promedio', 'Tareas_Puntuales',\n",
       "       'Tareas_No_Entregadas', 'Tareas_Retrasadas', 'Total_Tareas',\n",
       "       'Dias_Conectado', 'Minutos_Promedio', 'Minutos_Total', 'Año', 'Mes',\n",
       "       'CICLO', 'Org'],\n",
       "      dtype='object')"
      ]
     },
     "execution_count": 150,
     "metadata": {},
     "output_type": "execute_result"
    }
   ],
   "source": [
    "df4.columns"
   ]
  },
  {
   "cell_type": "code",
   "execution_count": 151,
   "metadata": {},
   "outputs": [
    {
     "data": {
      "text/plain": [
       "0       1\n",
       "1       0\n",
       "2       0\n",
       "3       1\n",
       "4       1\n",
       "       ..\n",
       "2495    0\n",
       "2496    1\n",
       "2497    0\n",
       "2498    1\n",
       "2499    0\n",
       "Length: 2500, dtype: int8"
      ]
     },
     "execution_count": 151,
     "metadata": {},
     "output_type": "execute_result"
    }
   ],
   "source": [
    "y = df4[\"Graduado\"].astype(\"category\").cat.codes\n",
    "y"
   ]
  },
  {
   "cell_type": "code",
   "execution_count": 154,
   "metadata": {},
   "outputs": [
    {
     "data": {
      "text/html": [
       "<div>\n",
       "<style scoped>\n",
       "    .dataframe tbody tr th:only-of-type {\n",
       "        vertical-align: middle;\n",
       "    }\n",
       "\n",
       "    .dataframe tbody tr th {\n",
       "        vertical-align: top;\n",
       "    }\n",
       "\n",
       "    .dataframe thead th {\n",
       "        text-align: right;\n",
       "    }\n",
       "</style>\n",
       "<table border=\"1\" class=\"dataframe\">\n",
       "  <thead>\n",
       "    <tr style=\"text-align: right;\">\n",
       "      <th></th>\n",
       "      <th>Calificacion_Promedio</th>\n",
       "      <th>Tareas_Puntuales</th>\n",
       "      <th>Tareas_No_Entregadas</th>\n",
       "      <th>Tareas_Retrasadas</th>\n",
       "      <th>Total_Tareas</th>\n",
       "      <th>Dias_Conectado</th>\n",
       "      <th>Minutos_Promedio</th>\n",
       "      <th>Minutos_Total</th>\n",
       "      <th>Año</th>\n",
       "      <th>Mes</th>\n",
       "      <th>CICLO</th>\n",
       "      <th>Org</th>\n",
       "    </tr>\n",
       "  </thead>\n",
       "  <tbody>\n",
       "    <tr>\n",
       "      <th>0</th>\n",
       "      <td>65.598667</td>\n",
       "      <td>13.0</td>\n",
       "      <td>2.0</td>\n",
       "      <td>0.0</td>\n",
       "      <td>15.0</td>\n",
       "      <td>32.0</td>\n",
       "      <td>370.231250</td>\n",
       "      <td>11847.40</td>\n",
       "      <td>2017</td>\n",
       "      <td>3</td>\n",
       "      <td>0.375</td>\n",
       "      <td>MER</td>\n",
       "    </tr>\n",
       "    <tr>\n",
       "      <th>1</th>\n",
       "      <td>86.482222</td>\n",
       "      <td>9.0</td>\n",
       "      <td>0.0</td>\n",
       "      <td>0.0</td>\n",
       "      <td>9.0</td>\n",
       "      <td>50.0</td>\n",
       "      <td>198.717400</td>\n",
       "      <td>9935.87</td>\n",
       "      <td>2017</td>\n",
       "      <td>3</td>\n",
       "      <td>0.375</td>\n",
       "      <td>FZ</td>\n",
       "    </tr>\n",
       "    <tr>\n",
       "      <th>2</th>\n",
       "      <td>63.196667</td>\n",
       "      <td>12.0</td>\n",
       "      <td>2.0</td>\n",
       "      <td>1.0</td>\n",
       "      <td>15.0</td>\n",
       "      <td>22.0</td>\n",
       "      <td>294.535909</td>\n",
       "      <td>6479.79</td>\n",
       "      <td>2017</td>\n",
       "      <td>3</td>\n",
       "      <td>0.375</td>\n",
       "      <td>AN</td>\n",
       "    </tr>\n",
       "    <tr>\n",
       "      <th>3</th>\n",
       "      <td>84.988333</td>\n",
       "      <td>8.0</td>\n",
       "      <td>0.0</td>\n",
       "      <td>4.0</td>\n",
       "      <td>12.0</td>\n",
       "      <td>29.0</td>\n",
       "      <td>471.421379</td>\n",
       "      <td>13671.22</td>\n",
       "      <td>2017</td>\n",
       "      <td>3</td>\n",
       "      <td>0.375</td>\n",
       "      <td>EDU</td>\n",
       "    </tr>\n",
       "    <tr>\n",
       "      <th>4</th>\n",
       "      <td>68.542667</td>\n",
       "      <td>11.0</td>\n",
       "      <td>3.0</td>\n",
       "      <td>1.0</td>\n",
       "      <td>15.0</td>\n",
       "      <td>31.0</td>\n",
       "      <td>306.023226</td>\n",
       "      <td>9486.72</td>\n",
       "      <td>2017</td>\n",
       "      <td>3</td>\n",
       "      <td>0.375</td>\n",
       "      <td>EDU</td>\n",
       "    </tr>\n",
       "  </tbody>\n",
       "</table>\n",
       "</div>"
      ],
      "text/plain": [
       "   Calificacion_Promedio  Tareas_Puntuales  Tareas_No_Entregadas  \\\n",
       "0              65.598667              13.0                   2.0   \n",
       "1              86.482222               9.0                   0.0   \n",
       "2              63.196667              12.0                   2.0   \n",
       "3              84.988333               8.0                   0.0   \n",
       "4              68.542667              11.0                   3.0   \n",
       "\n",
       "   Tareas_Retrasadas  Total_Tareas  Dias_Conectado  Minutos_Promedio  \\\n",
       "0                0.0          15.0            32.0        370.231250   \n",
       "1                0.0           9.0            50.0        198.717400   \n",
       "2                1.0          15.0            22.0        294.535909   \n",
       "3                4.0          12.0            29.0        471.421379   \n",
       "4                1.0          15.0            31.0        306.023226   \n",
       "\n",
       "   Minutos_Total   Año  Mes  CICLO  Org  \n",
       "0       11847.40  2017    3  0.375  MER  \n",
       "1        9935.87  2017    3  0.375   FZ  \n",
       "2        6479.79  2017    3  0.375   AN  \n",
       "3       13671.22  2017    3  0.375  EDU  \n",
       "4        9486.72  2017    3  0.375  EDU  "
      ]
     },
     "execution_count": 154,
     "metadata": {},
     "output_type": "execute_result"
    }
   ],
   "source": [
    "df4.drop(columns = [\"Graduado\"], inplace = True)\n",
    "df4.head()"
   ]
  },
  {
   "cell_type": "code",
   "execution_count": 155,
   "metadata": {},
   "outputs": [],
   "source": [
    "cat_cols = [\"Año\", \"Mes\", \"Org\"]\n",
    "cont_cols = [\"Calificacion_Promedio\",\"Tareas_Puntuales\",\"Tareas_No_Entregadas\",\"Tareas_Retrasadas\",\"Total_Tareas\",\"Dias_Conectado\",\"Minutos_Promedio\",\"Minutos_Total\",\"CICLO\"]"
   ]
  },
  {
   "cell_type": "code",
   "execution_count": 159,
   "metadata": {},
   "outputs": [
    {
     "data": {
      "text/html": [
       "<div>\n",
       "<style scoped>\n",
       "    .dataframe tbody tr th:only-of-type {\n",
       "        vertical-align: middle;\n",
       "    }\n",
       "\n",
       "    .dataframe tbody tr th {\n",
       "        vertical-align: top;\n",
       "    }\n",
       "\n",
       "    .dataframe thead th {\n",
       "        text-align: right;\n",
       "    }\n",
       "</style>\n",
       "<table border=\"1\" class=\"dataframe\">\n",
       "  <thead>\n",
       "    <tr style=\"text-align: right;\">\n",
       "      <th></th>\n",
       "      <th>Calificacion_Promedio</th>\n",
       "      <th>Tareas_Puntuales</th>\n",
       "      <th>Tareas_No_Entregadas</th>\n",
       "      <th>Tareas_Retrasadas</th>\n",
       "      <th>Total_Tareas</th>\n",
       "      <th>Dias_Conectado</th>\n",
       "      <th>Minutos_Promedio</th>\n",
       "      <th>Minutos_Total</th>\n",
       "      <th>Año</th>\n",
       "      <th>Mes</th>\n",
       "      <th>CICLO</th>\n",
       "      <th>Org</th>\n",
       "    </tr>\n",
       "  </thead>\n",
       "  <tbody>\n",
       "    <tr>\n",
       "      <th>0</th>\n",
       "      <td>65.598667</td>\n",
       "      <td>13.0</td>\n",
       "      <td>2.0</td>\n",
       "      <td>0.0</td>\n",
       "      <td>15.0</td>\n",
       "      <td>32.0</td>\n",
       "      <td>370.231250</td>\n",
       "      <td>11847.40</td>\n",
       "      <td>0</td>\n",
       "      <td>2</td>\n",
       "      <td>0.375</td>\n",
       "      <td>6</td>\n",
       "    </tr>\n",
       "    <tr>\n",
       "      <th>1</th>\n",
       "      <td>86.482222</td>\n",
       "      <td>9.0</td>\n",
       "      <td>0.0</td>\n",
       "      <td>0.0</td>\n",
       "      <td>9.0</td>\n",
       "      <td>50.0</td>\n",
       "      <td>198.717400</td>\n",
       "      <td>9935.87</td>\n",
       "      <td>0</td>\n",
       "      <td>2</td>\n",
       "      <td>0.375</td>\n",
       "      <td>5</td>\n",
       "    </tr>\n",
       "    <tr>\n",
       "      <th>2</th>\n",
       "      <td>63.196667</td>\n",
       "      <td>12.0</td>\n",
       "      <td>2.0</td>\n",
       "      <td>1.0</td>\n",
       "      <td>15.0</td>\n",
       "      <td>22.0</td>\n",
       "      <td>294.535909</td>\n",
       "      <td>6479.79</td>\n",
       "      <td>0</td>\n",
       "      <td>2</td>\n",
       "      <td>0.375</td>\n",
       "      <td>1</td>\n",
       "    </tr>\n",
       "    <tr>\n",
       "      <th>3</th>\n",
       "      <td>84.988333</td>\n",
       "      <td>8.0</td>\n",
       "      <td>0.0</td>\n",
       "      <td>4.0</td>\n",
       "      <td>12.0</td>\n",
       "      <td>29.0</td>\n",
       "      <td>471.421379</td>\n",
       "      <td>13671.22</td>\n",
       "      <td>0</td>\n",
       "      <td>2</td>\n",
       "      <td>0.375</td>\n",
       "      <td>4</td>\n",
       "    </tr>\n",
       "    <tr>\n",
       "      <th>4</th>\n",
       "      <td>68.542667</td>\n",
       "      <td>11.0</td>\n",
       "      <td>3.0</td>\n",
       "      <td>1.0</td>\n",
       "      <td>15.0</td>\n",
       "      <td>31.0</td>\n",
       "      <td>306.023226</td>\n",
       "      <td>9486.72</td>\n",
       "      <td>0</td>\n",
       "      <td>2</td>\n",
       "      <td>0.375</td>\n",
       "      <td>4</td>\n",
       "    </tr>\n",
       "  </tbody>\n",
       "</table>\n",
       "</div>"
      ],
      "text/plain": [
       "   Calificacion_Promedio  Tareas_Puntuales  Tareas_No_Entregadas  \\\n",
       "0              65.598667              13.0                   2.0   \n",
       "1              86.482222               9.0                   0.0   \n",
       "2              63.196667              12.0                   2.0   \n",
       "3              84.988333               8.0                   0.0   \n",
       "4              68.542667              11.0                   3.0   \n",
       "\n",
       "   Tareas_Retrasadas  Total_Tareas  Dias_Conectado  Minutos_Promedio  \\\n",
       "0                0.0          15.0            32.0        370.231250   \n",
       "1                0.0           9.0            50.0        198.717400   \n",
       "2                1.0          15.0            22.0        294.535909   \n",
       "3                4.0          12.0            29.0        471.421379   \n",
       "4                1.0          15.0            31.0        306.023226   \n",
       "\n",
       "   Minutos_Total  Año  Mes  CICLO  Org  \n",
       "0       11847.40    0    2  0.375    6  \n",
       "1        9935.87    0    2  0.375    5  \n",
       "2        6479.79    0    2  0.375    1  \n",
       "3       13671.22    0    2  0.375    4  \n",
       "4        9486.72    0    2  0.375    4  "
      ]
     },
     "execution_count": 159,
     "metadata": {},
     "output_type": "execute_result"
    }
   ],
   "source": [
    "from sklearn.preprocessing import LabelEncoder\n",
    "for col in cat_cols:\n",
    "    df4[col] = LabelEncoder().fit_transform(df4[col])\n",
    "df4.head()\n"
   ]
  },
  {
   "cell_type": "code",
   "execution_count": 160,
   "metadata": {},
   "outputs": [
    {
     "data": {
      "text/plain": [
       "array([[0, 2, 6],\n",
       "       [0, 2, 5],\n",
       "       [0, 2, 1],\n",
       "       ...,\n",
       "       [2, 7, 4],\n",
       "       [2, 7, 4],\n",
       "       [2, 7, 2]], dtype=int64)"
      ]
     },
     "execution_count": 160,
     "metadata": {},
     "output_type": "execute_result"
    }
   ],
   "source": [
    "cat_features=np.stack([df4['Año'],df4['Mes'],df4['Org']],1)\n",
    "cat_features"
   ]
  },
  {
   "cell_type": "code",
   "execution_count": 161,
   "metadata": {},
   "outputs": [
    {
     "data": {
      "text/plain": [
       "tensor([[0, 2, 6],\n",
       "        [0, 2, 5],\n",
       "        [0, 2, 1],\n",
       "        ...,\n",
       "        [2, 7, 4],\n",
       "        [2, 7, 4],\n",
       "        [2, 7, 2]])"
      ]
     },
     "execution_count": 161,
     "metadata": {},
     "output_type": "execute_result"
    }
   ],
   "source": [
    "cat_features=torch.tensor(cat_features,dtype=torch.int64)\n",
    "cat_features"
   ]
  },
  {
   "cell_type": "code",
   "execution_count": 162,
   "metadata": {},
   "outputs": [
    {
     "data": {
      "text/plain": [
       "tensor([[6.5599e+01, 1.3000e+01, 2.0000e+00,  ..., 3.7023e+02, 1.1847e+04,\n",
       "         3.7500e-01],\n",
       "        [8.6482e+01, 9.0000e+00, 0.0000e+00,  ..., 1.9872e+02, 9.9359e+03,\n",
       "         3.7500e-01],\n",
       "        [6.3197e+01, 1.2000e+01, 2.0000e+00,  ..., 2.9454e+02, 6.4798e+03,\n",
       "         3.7500e-01],\n",
       "        ...,\n",
       "        [7.3333e+01, 9.0000e+00, 0.0000e+00,  ..., 1.7168e+02, 4.6352e+03,\n",
       "         3.0000e+00],\n",
       "        [8.5186e+01, 9.0000e+00, 0.0000e+00,  ..., 2.5611e+02, 2.6123e+04,\n",
       "         3.0000e+00],\n",
       "        [8.0159e+01, 1.5000e+01, 0.0000e+00,  ..., 2.3084e+02, 6.0019e+03,\n",
       "         3.0000e+00]])"
      ]
     },
     "execution_count": 162,
     "metadata": {},
     "output_type": "execute_result"
    }
   ],
   "source": [
    "cont_values=np.stack([df4[i].values for i in cont_cols],axis=1)\n",
    "cont_values=torch.tensor(cont_values,dtype=torch.float)\n",
    "cont_values"
   ]
  },
  {
   "cell_type": "code",
   "execution_count": 163,
   "metadata": {},
   "outputs": [],
   "source": [
    "y=torch.tensor(y,dtype=torch.int).reshape(-1,1)"
   ]
  },
  {
   "cell_type": "code",
   "execution_count": 230,
   "metadata": {},
   "outputs": [
    {
     "data": {
      "text/plain": [
       "tensor([1, 0, 0,  ..., 0, 1, 0])"
      ]
     },
     "execution_count": 230,
     "metadata": {},
     "output_type": "execute_result"
    }
   ],
   "source": [
    "y = y.type(torch.LongTensor)\n",
    "y"
   ]
  },
  {
   "cell_type": "code",
   "execution_count": 247,
   "metadata": {},
   "outputs": [],
   "source": [
    "y = y.reshape(-1,1)"
   ]
  },
  {
   "cell_type": "code",
   "execution_count": 362,
   "metadata": {},
   "outputs": [
    {
     "data": {
      "text/plain": [
       "tensor([[1.],\n",
       "        [0.],\n",
       "        [0.],\n",
       "        ...,\n",
       "        [0.],\n",
       "        [1.],\n",
       "        [0.]])"
      ]
     },
     "execution_count": 362,
     "metadata": {},
     "output_type": "execute_result"
    }
   ],
   "source": [
    "y= y.to(torch.float32)\n",
    "y"
   ]
  },
  {
   "attachments": {
    "c37d061d-31c0-4112-9823-8b74b89609e1.png": {
     "image/png": "[encoded data removed]"
    }
   },
   "cell_type": "markdown",
   "metadata": {},
   "source": [
    "![image.png](attachment:c37d061d-31c0-4112-9823-8b74b89609e1.png)\n",
    "\n",
    "Each categorical feature will be set an embedding using the formula [(x, min(50, (x + 1) // 2)) for x in cat_dims]"
   ]
  },
  {
   "cell_type": "code",
   "execution_count": 363,
   "metadata": {},
   "outputs": [
    {
     "data": {
      "text/plain": [
       "[3, 8, 9]"
      ]
     },
     "execution_count": 363,
     "metadata": {},
     "output_type": "execute_result"
    }
   ],
   "source": [
    "cat_dims=[len(df4[col].unique()) for col in cat_cols]\n",
    "cat_dims"
   ]
  },
  {
   "cell_type": "code",
   "execution_count": 364,
   "metadata": {},
   "outputs": [
    {
     "data": {
      "text/plain": [
       "[(3, 2), (8, 4), (9, 5)]"
      ]
     },
     "execution_count": 364,
     "metadata": {},
     "output_type": "execute_result"
    }
   ],
   "source": [
    "embedding_dim= [(x, min(50, (x + 1) // 2)) for x in cat_dims]\n",
    "embedding_dim"
   ]
  },
  {
   "cell_type": "code",
   "execution_count": 472,
   "metadata": {},
   "outputs": [],
   "source": [
    "# Model\n",
    "\n",
    "class FFNN(nn.Module):\n",
    "    def __init__(self, embedding_dim, n_cont, out_sz, layers, p=0.5):\n",
    "        \"\"\"\n",
    "        Params:\n",
    "            embedding_dim: list of embedding dimensions, one item per categorical feature\n",
    "            n_cont: number of continous features\n",
    "            out_sz: size of output layer, usually 1 as it classification\n",
    "\n",
    "        \"\"\"\n",
    "        super().__init__()\n",
    "        self.embeds = nn.ModuleList([nn.Embedding(inp,out) for inp,out in embedding_dim]) #Generate the embedding layers, iterate dims\n",
    "        self.emb_drop = nn.Dropout(p)\n",
    "        self.bn_cont = nn.BatchNorm1d(n_cont)\n",
    "        \n",
    "        layerlist = []\n",
    "        n_emb = sum((out for inp,out in embedding_dim))\n",
    "        n_in = n_emb + n_cont\n",
    "        \n",
    "        for i in layers:\n",
    "            layerlist.append(nn.Linear(n_in,i)) \n",
    "            layerlist.append(nn.ReLU(inplace=True))\n",
    "            layerlist.append(nn.BatchNorm1d(i))\n",
    "            layerlist.append(nn.Dropout(p))\n",
    "            n_in = i\n",
    "        layerlist.append(nn.Linear(layers[-1],out_sz))\n",
    "        layerlist.append(nn.Sigmoid())\n",
    "            \n",
    "        self.layers = nn.Sequential(*layerlist)\n",
    "        \n",
    "        \"\"\"        \n",
    "        n_emb = sum((out for inp,out in embedding_dim)) #get total size of embeddings\n",
    "        n_in = n_emb + n_cont #get the total numberof features after embeddings\n",
    "        \n",
    "        self.fc1 = nn.Linear(n_in,32)\n",
    "        self.fc2 = nn.Linear(32,64)\n",
    "        self.fc3 = nn.Linear(64,out_sz)\n",
    "\"\"\"\n",
    "    \n",
    "    def forward(self, x_cat, x_cont):\n",
    "        embeddings = []\n",
    "        for i,e in enumerate(self.embeds):\n",
    "            embeddings.append(e(x_cat[:,i])) # Apply each embedd to its feature\n",
    "        x = torch.cat(embeddings, 1)\n",
    "        x = self.emb_drop(x)\n",
    "        x_cont = self.bn_cont(x_cont)\n",
    "        x = torch.cat([x, x_cont], 1) # Unite the embedding with the cont features\n",
    "        \n",
    "        x = self.layers(x)\n",
    "\n",
    "        return x"
   ]
  },
  {
   "cell_type": "code",
   "execution_count": 485,
   "metadata": {},
   "outputs": [],
   "source": [
    "torch.manual_seed(1)\n",
    "model=FFNN(embedding_dim,len(cont_cols),1, layers = [100,50])"
   ]
  },
  {
   "cell_type": "code",
   "execution_count": 486,
   "metadata": {},
   "outputs": [
    {
     "data": {
      "text/plain": [
       "FFNN(\n",
       "  (embeds): ModuleList(\n",
       "    (0): Embedding(3, 2)\n",
       "    (1): Embedding(8, 4)\n",
       "    (2): Embedding(9, 5)\n",
       "  )\n",
       "  (emb_drop): Dropout(p=0.5, inplace=False)\n",
       "  (bn_cont): BatchNorm1d(9, eps=1e-05, momentum=0.1, affine=True, track_running_stats=True)\n",
       "  (layers): Sequential(\n",
       "    (0): Linear(in_features=20, out_features=100, bias=True)\n",
       "    (1): ReLU(inplace=True)\n",
       "    (2): BatchNorm1d(100, eps=1e-05, momentum=0.1, affine=True, track_running_stats=True)\n",
       "    (3): Dropout(p=0.5, inplace=False)\n",
       "    (4): Linear(in_features=100, out_features=50, bias=True)\n",
       "    (5): ReLU(inplace=True)\n",
       "    (6): BatchNorm1d(50, eps=1e-05, momentum=0.1, affine=True, track_running_stats=True)\n",
       "    (7): Dropout(p=0.5, inplace=False)\n",
       "    (8): Linear(in_features=50, out_features=1, bias=True)\n",
       "    (9): Sigmoid()\n",
       "  )\n",
       ")"
      ]
     },
     "execution_count": 486,
     "metadata": {},
     "output_type": "execute_result"
    }
   ],
   "source": [
    "model"
   ]
  },
  {
   "cell_type": "code",
   "execution_count": 487,
   "metadata": {},
   "outputs": [
    {
     "data": {
      "text/plain": [
       "(2000, 500, 2000, 500, 2000, 500)"
      ]
     },
     "execution_count": 487,
     "metadata": {},
     "output_type": "execute_result"
    }
   ],
   "source": [
    "batch_size=2500\n",
    "test_size=int(batch_size*0.2)\n",
    "\n",
    "train_categorical=cat_features[:batch_size-test_size]\n",
    "test_categorical=cat_features[batch_size-test_size:]\n",
    "\n",
    "train_cont=cont_values[:batch_size-test_size]\n",
    "test_cont=cont_values[batch_size-test_size:]\n",
    "\n",
    "y_train=y[:batch_size-test_size]\n",
    "y_test=y[batch_size-test_size:]\n",
    "\n",
    "len(train_categorical),len(test_categorical),len(train_cont), len(test_cont),len(y_train),len(y_test)"
   ]
  },
  {
   "cell_type": "code",
   "execution_count": 657,
   "metadata": {},
   "outputs": [
    {
     "data": {
      "text/plain": [
       "torch.Size([2000, 1])"
      ]
     },
     "execution_count": 657,
     "metadata": {},
     "output_type": "execute_result"
    }
   ],
   "source": [
    "y_train.shape"
   ]
  },
  {
   "cell_type": "code",
   "execution_count": 489,
   "metadata": {},
   "outputs": [
    {
     "data": {
      "text/plain": [
       "torch.Size([2000, 1])"
      ]
     },
     "execution_count": 489,
     "metadata": {},
     "output_type": "execute_result"
    }
   ],
   "source": [
    "y_pred_t=model(train_categorical,train_cont)\n",
    "y_pred_t.shape"
   ]
  },
  {
   "cell_type": "code",
   "execution_count": 490,
   "metadata": {},
   "outputs": [],
   "source": [
    "def accuracy(outputs, labels):\n",
    "    outputs = torch.sigmoid(outputs)\n",
    "    preds = torch.where(outputs>0.5,1,0)\n",
    "    return torch.tensor(torch.sum(preds == labels).item() / len(preds))"
   ]
  },
  {
   "cell_type": "code",
   "execution_count": 491,
   "metadata": {},
   "outputs": [],
   "source": [
    "def fit(model, epochs, lr):\n",
    "    loss_function= nn.BCELoss()\n",
    "    optimizer=torch.optim.Adam(model.parameters(), lr = lr)\n",
    "    #epochs=100\n",
    "    train_loss=[]\n",
    "    train_accs = []\n",
    "    for i in range(epochs):\n",
    "        #i=i+1\n",
    "        #Train data\n",
    "        y_pred_t=model(train_categorical,train_cont)\n",
    "        loss_t= loss_function(y_pred_t, y_train.reshape(-1,1))\n",
    "        \n",
    "        if i%100 == 0:\n",
    "            train_loss.append(loss_t.item())\n",
    "            train_acc = accuracy(y_pred_t, y_train)\n",
    "            train_accs.append(train_acc)\n",
    "            print(\"Epoch {}, train loss : {}, train acc: {}\".format(i,loss_t.item(),  train_acc))\n",
    "            \n",
    "        optimizer.zero_grad()\n",
    "        loss_t.backward()\n",
    "        optimizer.step()\n",
    "    return train_loss, train_accs"
   ]
  },
  {
   "cell_type": "code",
   "execution_count": null,
   "metadata": {},
   "outputs": [],
   "source": []
  },
  {
   "cell_type": "code",
   "execution_count": 492,
   "metadata": {},
   "outputs": [
    {
     "name": "stdout",
     "output_type": "stream",
     "text": [
      "Epoch 0, train loss : 0.7762070894241333, train acc: 0.5274999737739563\n",
      "Epoch 100, train loss : 0.37219294905662537, train acc: 0.5274999737739563\n",
      "Epoch 200, train loss : 0.34130972623825073, train acc: 0.5289999842643738\n",
      "Epoch 300, train loss : 0.34690457582473755, train acc: 0.5385000109672546\n",
      "Epoch 400, train loss : 0.3228223919868469, train acc: 0.5519999861717224\n",
      "Epoch 500, train loss : 0.32179921865463257, train acc: 0.5634999871253967\n",
      "Epoch 600, train loss : 0.32437261939048767, train acc: 0.5715000033378601\n",
      "Epoch 700, train loss : 0.3164598345756531, train acc: 0.5870000123977661\n",
      "Epoch 800, train loss : 0.30484479665756226, train acc: 0.5879999995231628\n",
      "Epoch 900, train loss : 0.3163214325904846, train acc: 0.6019999980926514\n"
     ]
    }
   ],
   "source": [
    "tl, ta = fit(model=model, epochs=1000, lr = 0.01)"
   ]
  },
  {
   "cell_type": "code",
   "execution_count": 495,
   "metadata": {},
   "outputs": [
    {
     "name": "stdout",
     "output_type": "stream",
     "text": [
      "Epoch 0, train loss : 0.7635501623153687, train acc: 0.5274999737739563\n",
      "Epoch 100, train loss : 0.3652597665786743, train acc: 0.5285000205039978\n",
      "Epoch 200, train loss : 0.3584950864315033, train acc: 0.5339999794960022\n",
      "Epoch 300, train loss : 0.3531409800052643, train acc: 0.5400000214576721\n",
      "Epoch 400, train loss : 0.3394756019115448, train acc: 0.5475000143051147\n",
      "Epoch 500, train loss : 0.3338610529899597, train acc: 0.5525000095367432\n",
      "Epoch 600, train loss : 0.3266967535018921, train acc: 0.5665000081062317\n",
      "Epoch 700, train loss : 0.32117125391960144, train acc: 0.5695000290870667\n",
      "Epoch 800, train loss : 0.3237888514995575, train acc: 0.5715000033378601\n",
      "Epoch 900, train loss : 0.31915462017059326, train acc: 0.5724999904632568\n"
     ]
    }
   ],
   "source": [
    "model=FFNN(embedding_dim,len(cont_cols),1, layers = [100,50])\n",
    "tl2, ta2 = fit(model=model, epochs=1000, lr = 0.1)"
   ]
  },
  {
   "cell_type": "code",
   "execution_count": 497,
   "metadata": {},
   "outputs": [
    {
     "name": "stdout",
     "output_type": "stream",
     "text": [
      "Epoch 0, train loss : 0.7563731670379639, train acc: 0.5274999737739563\n",
      "Epoch 100, train loss : 0.3951326608657837, train acc: 0.5285000205039978\n",
      "Epoch 200, train loss : 0.3815520107746124, train acc: 0.5274999737739563\n",
      "Epoch 300, train loss : 0.3778897225856781, train acc: 0.531000018119812\n",
      "Epoch 400, train loss : 0.3643280267715454, train acc: 0.5379999876022339\n",
      "Epoch 500, train loss : 0.38038650155067444, train acc: 0.5379999876022339\n",
      "Epoch 600, train loss : 0.35518863797187805, train acc: 0.550000011920929\n",
      "Epoch 700, train loss : 0.3553226888179779, train acc: 0.5609999895095825\n",
      "Epoch 800, train loss : 0.3512583374977112, train acc: 0.5619999766349792\n",
      "Epoch 900, train loss : 0.34804126620292664, train acc: 0.5525000095367432\n"
     ]
    }
   ],
   "source": [
    "model=FFNN(embedding_dim,len(cont_cols),1, layers = [100,50])\n",
    "tl3, ta3 = fit(model=model, epochs=1000, lr = 0.5)"
   ]
  },
  {
   "cell_type": "code",
   "execution_count": 500,
   "metadata": {},
   "outputs": [
    {
     "data": {
      "image/png": "[encoded data removed]",
      "text/plain": [
       "<Figure size 432x288 with 1 Axes>"
      ]
     },
     "metadata": {
      "needs_background": "light"
     },
     "output_type": "display_data"
    }
   ],
   "source": [
    "plt.plot(tl, label = \"LR 0.01\")\n",
    "plt.plot(tl2, label = \"LR 0.1\")\n",
    "plt.plot(tl3, label = \"LR 0.5\")\n",
    "plt.ylabel('Cost')\n",
    "plt.xlabel('iterations (per hundreds)')\n",
    "plt.title(\"[100,50]\")\n",
    "plt.legend()\n",
    "plt.show()"
   ]
  },
  {
   "cell_type": "code",
   "execution_count": 501,
   "metadata": {},
   "outputs": [
    {
     "data": {
      "image/png": "[encoded data removed]",
      "text/plain": [
       "<Figure size 432x288 with 1 Axes>"
      ]
     },
     "metadata": {
      "needs_background": "light"
     },
     "output_type": "display_data"
    }
   ],
   "source": [
    "plt.plot(ta, label = \"LR 0.01\")\n",
    "plt.plot(ta2, label = \"LR 0.1\")\n",
    "plt.plot(ta3, label = \"LR 0.5\")\n",
    "plt.ylabel('Cost')\n",
    "plt.title(\"[100,50]\")\n",
    "plt.xlabel('iterations (per hundreds)')\n",
    "plt.legend()\n",
    "plt.show()"
   ]
  },
  {
   "cell_type": "code",
   "execution_count": 502,
   "metadata": {},
   "outputs": [
    {
     "name": "stdout",
     "output_type": "stream",
     "text": [
      "Epoch 0, train loss : 0.7462487816810608, train acc: 0.5274999737739563\n",
      "Epoch 100, train loss : 0.3703065514564514, train acc: 0.5299999713897705\n",
      "Epoch 200, train loss : 0.35419246554374695, train acc: 0.5320000052452087\n",
      "Epoch 300, train loss : 0.3554108738899231, train acc: 0.531000018119812\n",
      "Epoch 400, train loss : 0.3453138470649719, train acc: 0.5354999899864197\n",
      "Epoch 500, train loss : 0.34240084886550903, train acc: 0.5370000004768372\n",
      "Epoch 600, train loss : 0.3397828936576843, train acc: 0.5350000262260437\n",
      "Epoch 700, train loss : 0.3340996205806732, train acc: 0.5339999794960022\n",
      "Epoch 800, train loss : 0.3308936059474945, train acc: 0.5375000238418579\n",
      "Epoch 900, train loss : 0.32735320925712585, train acc: 0.546500027179718\n"
     ]
    }
   ],
   "source": [
    "model=FFNN(embedding_dim,len(cont_cols),1, layers = [100,100,100])\n",
    "tl4, ta4 = fit(model=model, epochs=1000, lr = 0.1)"
   ]
  },
  {
   "cell_type": "code",
   "execution_count": 509,
   "metadata": {},
   "outputs": [
    {
     "name": "stdout",
     "output_type": "stream",
     "text": [
      "Epoch 0, train loss : 0.7936262488365173, train acc: 0.5274999737739563\n",
      "Epoch 100, train loss : 0.36142227053642273, train acc: 0.5274999737739563\n",
      "Epoch 200, train loss : 0.34867602586746216, train acc: 0.5304999947547913\n",
      "Epoch 300, train loss : 0.33517763018608093, train acc: 0.5370000004768372\n",
      "Epoch 400, train loss : 0.31761714816093445, train acc: 0.5440000295639038\n",
      "Epoch 500, train loss : 0.3193959593772888, train acc: 0.5569999814033508\n",
      "Epoch 600, train loss : 0.31304287910461426, train acc: 0.5619999766349792\n",
      "Epoch 700, train loss : 0.3015884459018707, train acc: 0.5669999718666077\n",
      "Epoch 800, train loss : 0.29801690578460693, train acc: 0.5759999752044678\n",
      "Epoch 900, train loss : 0.2856006324291229, train acc: 0.5799999833106995\n"
     ]
    }
   ],
   "source": [
    "model=FFNN(embedding_dim,len(cont_cols),1, layers = [100,100])\n",
    "tl5, ta5 = fit(model=model, epochs=1000, lr = 0.01)"
   ]
  },
  {
   "cell_type": "code",
   "execution_count": 510,
   "metadata": {},
   "outputs": [
    {
     "name": "stdout",
     "output_type": "stream",
     "text": [
      "Epoch 0, train loss : 0.780492901802063, train acc: 0.5274999737739563\n",
      "Epoch 100, train loss : 0.4100739061832428, train acc: 0.5274999737739563\n",
      "Epoch 200, train loss : 0.3812481760978699, train acc: 0.5274999737739563\n",
      "Epoch 300, train loss : 0.37899598479270935, train acc: 0.5274999737739563\n",
      "Epoch 400, train loss : 0.36664003133773804, train acc: 0.5274999737739563\n",
      "Epoch 500, train loss : 0.3656175434589386, train acc: 0.527999997138977\n",
      "Epoch 600, train loss : 0.3673793077468872, train acc: 0.5274999737739563\n",
      "Epoch 700, train loss : 0.35778680443763733, train acc: 0.5274999737739563\n",
      "Epoch 800, train loss : 0.3545924425125122, train acc: 0.527999997138977\n",
      "Epoch 900, train loss : 0.35155344009399414, train acc: 0.527999997138977\n"
     ]
    }
   ],
   "source": [
    "model=FFNN(embedding_dim,len(cont_cols),1, layers = [100])\n",
    "tl6, ta6 = fit(model=model, epochs=1000, lr = 0.001)"
   ]
  },
  {
   "cell_type": "code",
   "execution_count": 512,
   "metadata": {},
   "outputs": [
    {
     "data": {
      "image/png": "[encoded data removed]",
      "text/plain": [
       "<Figure size 432x288 with 1 Axes>"
      ]
     },
     "metadata": {
      "needs_background": "light"
     },
     "output_type": "display_data"
    }
   ],
   "source": [
    "plt.plot(tl4, label = \"HL 100 100 100 \")\n",
    "plt.plot(tl5, label = \"HL 100 100\")\n",
    "plt.plot(tl6, label = \"HL 100\")\n",
    "plt.ylabel('Cost')\n",
    "plt.xlabel('iterations (per hundreds)')\n",
    "plt.title(\"LR 0.001\")\n",
    "plt.legend()\n",
    "plt.show()"
   ]
  },
  {
   "cell_type": "code",
   "execution_count": 513,
   "metadata": {},
   "outputs": [
    {
     "data": {
      "image/png": "[encoded data removed]",
      "text/plain": [
       "<Figure size 432x288 with 1 Axes>"
      ]
     },
     "metadata": {
      "needs_background": "light"
     },
     "output_type": "display_data"
    }
   ],
   "source": [
    "plt.plot(ta4, label = \"HL 100 100 100 \")\n",
    "plt.plot(ta5, label = \"HL 100 100\")\n",
    "plt.plot(ta6, label = \"HL 100\")\n",
    "plt.ylabel('Acc')\n",
    "plt.xlabel('iterations (per hundreds)')\n",
    "plt.title(\"LR 0.001\")\n",
    "plt.legend()\n",
    "plt.show()"
   ]
  },
  {
   "cell_type": "code",
   "execution_count": 514,
   "metadata": {},
   "outputs": [
    {
     "name": "stdout",
     "output_type": "stream",
     "text": [
      "Epoch 0, train loss : 0.7463852763175964, train acc: 0.5274999737739563\n",
      "Epoch 100, train loss : 0.367796927690506, train acc: 0.527999997138977\n",
      "Epoch 200, train loss : 0.35298585891723633, train acc: 0.5335000157356262\n",
      "Epoch 300, train loss : 0.3337869346141815, train acc: 0.5475000143051147\n",
      "Epoch 400, train loss : 0.328141987323761, train acc: 0.5544999837875366\n",
      "Epoch 500, train loss : 0.32781362533569336, train acc: 0.5615000128746033\n",
      "Epoch 600, train loss : 0.3098437786102295, train acc: 0.5734999775886536\n",
      "Epoch 700, train loss : 0.3033536970615387, train acc: 0.5734999775886536\n",
      "Epoch 800, train loss : 0.3130578100681305, train acc: 0.5835000276565552\n",
      "Epoch 900, train loss : 0.2910792827606201, train acc: 0.590499997138977\n"
     ]
    }
   ],
   "source": [
    "model=FFNN(embedding_dim,len(cont_cols),1, layers = [100,100])\n",
    "tl5, ta5 = fit(model=model, epochs=1000, lr = 0.01)"
   ]
  },
  {
   "cell_type": "code",
   "execution_count": 515,
   "metadata": {},
   "outputs": [],
   "source": [
    "torch.save(model.state_dict(), \"pytorchFFNN.pt\")"
   ]
  },
  {
   "cell_type": "code",
   "execution_count": 516,
   "metadata": {},
   "outputs": [
    {
     "data": {
      "text/plain": [
       "<All keys matched successfully>"
      ]
     },
     "execution_count": 516,
     "metadata": {},
     "output_type": "execute_result"
    }
   ],
   "source": [
    "the_model = FFNN(embedding_dim,len(cont_cols),1, layers = [100,100])\n",
    "the_model.load_state_dict(torch.load(\"pytorchFFNN.pt\"))"
   ]
  },
  {
   "cell_type": "code",
   "execution_count": 517,
   "metadata": {},
   "outputs": [
    {
     "data": {
      "text/plain": [
       "FFNN(\n",
       "  (embeds): ModuleList(\n",
       "    (0): Embedding(3, 2)\n",
       "    (1): Embedding(8, 4)\n",
       "    (2): Embedding(9, 5)\n",
       "  )\n",
       "  (emb_drop): Dropout(p=0.5, inplace=False)\n",
       "  (bn_cont): BatchNorm1d(9, eps=1e-05, momentum=0.1, affine=True, track_running_stats=True)\n",
       "  (layers): Sequential(\n",
       "    (0): Linear(in_features=20, out_features=100, bias=True)\n",
       "    (1): ReLU(inplace=True)\n",
       "    (2): BatchNorm1d(100, eps=1e-05, momentum=0.1, affine=True, track_running_stats=True)\n",
       "    (3): Dropout(p=0.5, inplace=False)\n",
       "    (4): Linear(in_features=100, out_features=100, bias=True)\n",
       "    (5): ReLU(inplace=True)\n",
       "    (6): BatchNorm1d(100, eps=1e-05, momentum=0.1, affine=True, track_running_stats=True)\n",
       "    (7): Dropout(p=0.5, inplace=False)\n",
       "    (8): Linear(in_features=100, out_features=1, bias=True)\n",
       "    (9): Sigmoid()\n",
       "  )\n",
       ")"
      ]
     },
     "execution_count": 517,
     "metadata": {},
     "output_type": "execute_result"
    }
   ],
   "source": [
    "the_model.eval()"
   ]
  },
  {
   "cell_type": "code",
   "execution_count": 656,
   "metadata": {},
   "outputs": [
    {
     "data": {
      "text/plain": [
       "0.5220000147819519"
      ]
     },
     "execution_count": 656,
     "metadata": {},
     "output_type": "execute_result"
    }
   ],
   "source": [
    "accuracy(model(test_categorical, test_cont), y_test).item()"
   ]
  },
  {
   "cell_type": "code",
   "execution_count": 718,
   "metadata": {},
   "outputs": [
    {
     "data": {
      "text/plain": [
       "torch.Size([500, 9])"
      ]
     },
     "execution_count": 718,
     "metadata": {},
     "output_type": "execute_result"
    }
   ],
   "source": [
    "test_cont.shape"
   ]
  },
  {
   "cell_type": "code",
   "execution_count": 725,
   "metadata": {},
   "outputs": [
    {
     "data": {
      "text/plain": [
       "(torch.Size([1, 3]), torch.Size([1, 9]))"
      ]
     },
     "execution_count": 725,
     "metadata": {},
     "output_type": "execute_result"
    }
   ],
   "source": [
    "cat = torch.tensor([2, 3, 8]).reshape(1,-1)\n",
    "cat = cat.to(torch.long)\n",
    "cont = torch.tensor([85 , 10, 0, 0, 10, 200, 100, 100*200, 0.375]).reshape(1,-1)\n",
    "cat.shape, cont.shape"
   ]
  },
  {
   "cell_type": "code",
   "execution_count": 726,
   "metadata": {},
   "outputs": [],
   "source": [
    "emb = []\n",
    "for i,e in enumerate(model.embeds):\n",
    "    emb.append(e(cat[:,i])) # Apply each embedd to its feature"
   ]
  },
  {
   "cell_type": "code",
   "execution_count": 727,
   "metadata": {},
   "outputs": [
    {
     "data": {
      "text/plain": [
       "1.0"
      ]
     },
     "execution_count": 727,
     "metadata": {},
     "output_type": "execute_result"
    }
   ],
   "source": [
    "from torch.autograd import Variable\n",
    "from torch import Tensor\n",
    "model.eval()\n",
    "model(cat, cont).item()"
   ]
  },
  {
   "cell_type": "code",
   "execution_count": null,
   "metadata": {},
   "outputs": [],
   "source": []
  },
  {
   "cell_type": "code",
   "execution_count": null,
   "metadata": {},
   "outputs": [],
   "source": []
  },
  {
   "cell_type": "markdown",
   "metadata": {},
   "source": [
    "## Compare to scikit lr and xgb\n"
   ]
  },
  {
   "cell_type": "markdown",
   "metadata": {},
   "source": [
    "### XGB Model\n"
   ]
  },
  {
   "cell_type": "code",
   "execution_count": 662,
   "metadata": {},
   "outputs": [
    {
     "data": {
      "text/html": [
       "<div>\n",
       "<style scoped>\n",
       "    .dataframe tbody tr th:only-of-type {\n",
       "        vertical-align: middle;\n",
       "    }\n",
       "\n",
       "    .dataframe tbody tr th {\n",
       "        vertical-align: top;\n",
       "    }\n",
       "\n",
       "    .dataframe thead th {\n",
       "        text-align: right;\n",
       "    }\n",
       "</style>\n",
       "<table border=\"1\" class=\"dataframe\">\n",
       "  <thead>\n",
       "    <tr style=\"text-align: right;\">\n",
       "      <th></th>\n",
       "      <th>Graduado</th>\n",
       "      <th>Calificacion_Promedio</th>\n",
       "      <th>Tareas_Puntuales</th>\n",
       "      <th>Total_Tareas</th>\n",
       "      <th>Dias_Conectado</th>\n",
       "      <th>Minutos_Promedio</th>\n",
       "      <th>Año</th>\n",
       "      <th>Mes</th>\n",
       "      <th>CICLO</th>\n",
       "      <th>Org</th>\n",
       "      <th>tareas_score</th>\n",
       "    </tr>\n",
       "  </thead>\n",
       "  <tbody>\n",
       "    <tr>\n",
       "      <th>0</th>\n",
       "      <td>Si</td>\n",
       "      <td>65.598667</td>\n",
       "      <td>13.0</td>\n",
       "      <td>15.0</td>\n",
       "      <td>32.0</td>\n",
       "      <td>370.231250</td>\n",
       "      <td>0</td>\n",
       "      <td>3</td>\n",
       "      <td>0.375</td>\n",
       "      <td>MER</td>\n",
       "      <td>0.866667</td>\n",
       "    </tr>\n",
       "    <tr>\n",
       "      <th>1</th>\n",
       "      <td>No</td>\n",
       "      <td>86.482222</td>\n",
       "      <td>9.0</td>\n",
       "      <td>9.0</td>\n",
       "      <td>50.0</td>\n",
       "      <td>198.717400</td>\n",
       "      <td>0</td>\n",
       "      <td>3</td>\n",
       "      <td>0.375</td>\n",
       "      <td>FZ</td>\n",
       "      <td>1.000000</td>\n",
       "    </tr>\n",
       "    <tr>\n",
       "      <th>2</th>\n",
       "      <td>No</td>\n",
       "      <td>63.196667</td>\n",
       "      <td>12.0</td>\n",
       "      <td>15.0</td>\n",
       "      <td>22.0</td>\n",
       "      <td>294.535909</td>\n",
       "      <td>0</td>\n",
       "      <td>3</td>\n",
       "      <td>0.375</td>\n",
       "      <td>AN</td>\n",
       "      <td>0.800000</td>\n",
       "    </tr>\n",
       "    <tr>\n",
       "      <th>3</th>\n",
       "      <td>Si</td>\n",
       "      <td>84.988333</td>\n",
       "      <td>8.0</td>\n",
       "      <td>12.0</td>\n",
       "      <td>29.0</td>\n",
       "      <td>471.421379</td>\n",
       "      <td>0</td>\n",
       "      <td>3</td>\n",
       "      <td>0.375</td>\n",
       "      <td>EDU</td>\n",
       "      <td>0.666667</td>\n",
       "    </tr>\n",
       "    <tr>\n",
       "      <th>4</th>\n",
       "      <td>Si</td>\n",
       "      <td>68.542667</td>\n",
       "      <td>11.0</td>\n",
       "      <td>15.0</td>\n",
       "      <td>31.0</td>\n",
       "      <td>306.023226</td>\n",
       "      <td>0</td>\n",
       "      <td>3</td>\n",
       "      <td>0.375</td>\n",
       "      <td>EDU</td>\n",
       "      <td>0.733333</td>\n",
       "    </tr>\n",
       "  </tbody>\n",
       "</table>\n",
       "</div>"
      ],
      "text/plain": [
       "  Graduado  Calificacion_Promedio  Tareas_Puntuales  Total_Tareas  \\\n",
       "0       Si              65.598667              13.0          15.0   \n",
       "1       No              86.482222               9.0           9.0   \n",
       "2       No              63.196667              12.0          15.0   \n",
       "3       Si              84.988333               8.0          12.0   \n",
       "4       Si              68.542667              11.0          15.0   \n",
       "\n",
       "   Dias_Conectado  Minutos_Promedio  Año  Mes  CICLO  Org  tareas_score  \n",
       "0            32.0        370.231250    0    3  0.375  MER      0.866667  \n",
       "1            50.0        198.717400    0    3  0.375   FZ      1.000000  \n",
       "2            22.0        294.535909    0    3  0.375   AN      0.800000  \n",
       "3            29.0        471.421379    0    3  0.375  EDU      0.666667  \n",
       "4            31.0        306.023226    0    3  0.375  EDU      0.733333  "
      ]
     },
     "execution_count": 662,
     "metadata": {},
     "output_type": "execute_result"
    }
   ],
   "source": [
    "df5 = df2.copy()\n",
    "df5.head()"
   ]
  },
  {
   "cell_type": "code",
   "execution_count": 663,
   "metadata": {},
   "outputs": [],
   "source": [
    "df5.drop(columns=[\"Graduado\"], inplace = True)"
   ]
  },
  {
   "cell_type": "code",
   "execution_count": null,
   "metadata": {},
   "outputs": [],
   "source": []
  },
  {
   "cell_type": "code",
   "execution_count": 664,
   "metadata": {},
   "outputs": [],
   "source": [
    "Y = df2[\"Graduado\"].astype(\"category\").cat.codes"
   ]
  },
  {
   "cell_type": "code",
   "execution_count": 672,
   "metadata": {},
   "outputs": [],
   "source": [
    "X_train, X_test, y_train, y_test = train_test_split(df5, Y, test_size=0.2, random_state=1)"
   ]
  },
  {
   "cell_type": "code",
   "execution_count": 665,
   "metadata": {},
   "outputs": [
    {
     "data": {
      "text/html": [
       "<div>\n",
       "<style scoped>\n",
       "    .dataframe tbody tr th:only-of-type {\n",
       "        vertical-align: middle;\n",
       "    }\n",
       "\n",
       "    .dataframe tbody tr th {\n",
       "        vertical-align: top;\n",
       "    }\n",
       "\n",
       "    .dataframe thead th {\n",
       "        text-align: right;\n",
       "    }\n",
       "</style>\n",
       "<table border=\"1\" class=\"dataframe\">\n",
       "  <thead>\n",
       "    <tr style=\"text-align: right;\">\n",
       "      <th></th>\n",
       "      <th>Calificacion_Promedio</th>\n",
       "      <th>Tareas_Puntuales</th>\n",
       "      <th>Total_Tareas</th>\n",
       "      <th>Dias_Conectado</th>\n",
       "      <th>Minutos_Promedio</th>\n",
       "      <th>Año</th>\n",
       "      <th>Mes</th>\n",
       "      <th>CICLO</th>\n",
       "      <th>Org</th>\n",
       "      <th>tareas_score</th>\n",
       "    </tr>\n",
       "  </thead>\n",
       "  <tbody>\n",
       "    <tr>\n",
       "      <th>0</th>\n",
       "      <td>65.598667</td>\n",
       "      <td>13.0</td>\n",
       "      <td>15.0</td>\n",
       "      <td>32.0</td>\n",
       "      <td>370.231250</td>\n",
       "      <td>0</td>\n",
       "      <td>2</td>\n",
       "      <td>0.375</td>\n",
       "      <td>6</td>\n",
       "      <td>0.866667</td>\n",
       "    </tr>\n",
       "    <tr>\n",
       "      <th>1</th>\n",
       "      <td>86.482222</td>\n",
       "      <td>9.0</td>\n",
       "      <td>9.0</td>\n",
       "      <td>50.0</td>\n",
       "      <td>198.717400</td>\n",
       "      <td>0</td>\n",
       "      <td>2</td>\n",
       "      <td>0.375</td>\n",
       "      <td>5</td>\n",
       "      <td>1.000000</td>\n",
       "    </tr>\n",
       "    <tr>\n",
       "      <th>2</th>\n",
       "      <td>63.196667</td>\n",
       "      <td>12.0</td>\n",
       "      <td>15.0</td>\n",
       "      <td>22.0</td>\n",
       "      <td>294.535909</td>\n",
       "      <td>0</td>\n",
       "      <td>2</td>\n",
       "      <td>0.375</td>\n",
       "      <td>1</td>\n",
       "      <td>0.800000</td>\n",
       "    </tr>\n",
       "    <tr>\n",
       "      <th>3</th>\n",
       "      <td>84.988333</td>\n",
       "      <td>8.0</td>\n",
       "      <td>12.0</td>\n",
       "      <td>29.0</td>\n",
       "      <td>471.421379</td>\n",
       "      <td>0</td>\n",
       "      <td>2</td>\n",
       "      <td>0.375</td>\n",
       "      <td>4</td>\n",
       "      <td>0.666667</td>\n",
       "    </tr>\n",
       "    <tr>\n",
       "      <th>4</th>\n",
       "      <td>68.542667</td>\n",
       "      <td>11.0</td>\n",
       "      <td>15.0</td>\n",
       "      <td>31.0</td>\n",
       "      <td>306.023226</td>\n",
       "      <td>0</td>\n",
       "      <td>2</td>\n",
       "      <td>0.375</td>\n",
       "      <td>4</td>\n",
       "      <td>0.733333</td>\n",
       "    </tr>\n",
       "  </tbody>\n",
       "</table>\n",
       "</div>"
      ],
      "text/plain": [
       "   Calificacion_Promedio  Tareas_Puntuales  Total_Tareas  Dias_Conectado  \\\n",
       "0              65.598667              13.0          15.0            32.0   \n",
       "1              86.482222               9.0           9.0            50.0   \n",
       "2              63.196667              12.0          15.0            22.0   \n",
       "3              84.988333               8.0          12.0            29.0   \n",
       "4              68.542667              11.0          15.0            31.0   \n",
       "\n",
       "   Minutos_Promedio  Año  Mes  CICLO  Org  tareas_score  \n",
       "0        370.231250    0    2  0.375    6      0.866667  \n",
       "1        198.717400    0    2  0.375    5      1.000000  \n",
       "2        294.535909    0    2  0.375    1      0.800000  \n",
       "3        471.421379    0    2  0.375    4      0.666667  \n",
       "4        306.023226    0    2  0.375    4      0.733333  "
      ]
     },
     "execution_count": 665,
     "metadata": {},
     "output_type": "execute_result"
    }
   ],
   "source": [
    "from sklearn.preprocessing import LabelEncoder\n",
    "for col in cat_cols:\n",
    "    df5[col] = LabelEncoder().fit_transform(df5[col])\n",
    "df5.head()\n"
   ]
  },
  {
   "cell_type": "code",
   "execution_count": 676,
   "metadata": {},
   "outputs": [],
   "source": [
    "lrs = [0.1, 0.01, 0.001]\n",
    "n_estimators = [50,100,200]"
   ]
  },
  {
   "cell_type": "code",
   "execution_count": 683,
   "metadata": {},
   "outputs": [
    {
     "name": "stdout",
     "output_type": "stream",
     "text": [
      "[07:59:09] WARNING: C:/Users/Administrator/workspace/xgboost-win64_release_1.4.0/src/learner.cc:1095: Starting in XGBoost 1.3.0, the default evaluation metric used with the objective 'binary:logistic' was changed from 'error' to 'logloss'. Explicitly set eval_metric if you'd like to restore the old behavior.\n",
      "[0.1, [50, 100, 200], 0.788]\n",
      "[07:59:09] WARNING: C:/Users/Administrator/workspace/xgboost-win64_release_1.4.0/src/learner.cc:1095: Starting in XGBoost 1.3.0, the default evaluation metric used with the objective 'binary:logistic' was changed from 'error' to 'logloss'. Explicitly set eval_metric if you'd like to restore the old behavior.\n",
      "[0.1, [50, 100, 200], 0.786]\n",
      "[07:59:09] WARNING: C:/Users/Administrator/workspace/xgboost-win64_release_1.4.0/src/learner.cc:1095: Starting in XGBoost 1.3.0, the default evaluation metric used with the objective 'binary:logistic' was changed from 'error' to 'logloss'. Explicitly set eval_metric if you'd like to restore the old behavior.\n",
      "[0.1, [50, 100, 200], 0.786]\n",
      "[07:59:09] WARNING: C:/Users/Administrator/workspace/xgboost-win64_release_1.4.0/src/learner.cc:1095: Starting in XGBoost 1.3.0, the default evaluation metric used with the objective 'binary:logistic' was changed from 'error' to 'logloss'. Explicitly set eval_metric if you'd like to restore the old behavior.\n",
      "[0.01, [50, 100, 200], 0.78]\n",
      "[07:59:09] WARNING: C:/Users/Administrator/workspace/xgboost-win64_release_1.4.0/src/learner.cc:1095: Starting in XGBoost 1.3.0, the default evaluation metric used with the objective 'binary:logistic' was changed from 'error' to 'logloss'. Explicitly set eval_metric if you'd like to restore the old behavior.\n",
      "[0.01, [50, 100, 200], 0.794]\n",
      "[07:59:10] WARNING: C:/Users/Administrator/workspace/xgboost-win64_release_1.4.0/src/learner.cc:1095: Starting in XGBoost 1.3.0, the default evaluation metric used with the objective 'binary:logistic' was changed from 'error' to 'logloss'. Explicitly set eval_metric if you'd like to restore the old behavior.\n",
      "[0.01, [50, 100, 200], 0.786]\n",
      "[07:59:10] WARNING: C:/Users/Administrator/workspace/xgboost-win64_release_1.4.0/src/learner.cc:1095: Starting in XGBoost 1.3.0, the default evaluation metric used with the objective 'binary:logistic' was changed from 'error' to 'logloss'. Explicitly set eval_metric if you'd like to restore the old behavior.\n",
      "[0.001, [50, 100, 200], 0.766]\n",
      "[07:59:10] WARNING: C:/Users/Administrator/workspace/xgboost-win64_release_1.4.0/src/learner.cc:1095: Starting in XGBoost 1.3.0, the default evaluation metric used with the objective 'binary:logistic' was changed from 'error' to 'logloss'. Explicitly set eval_metric if you'd like to restore the old behavior.\n",
      "[0.001, [50, 100, 200], 0.756]\n",
      "[07:59:10] WARNING: C:/Users/Administrator/workspace/xgboost-win64_release_1.4.0/src/learner.cc:1095: Starting in XGBoost 1.3.0, the default evaluation metric used with the objective 'binary:logistic' was changed from 'error' to 'logloss'. Explicitly set eval_metric if you'd like to restore the old behavior.\n",
      "[0.001, [50, 100, 200], 0.762]\n"
     ]
    }
   ],
   "source": [
    "results = []\n",
    "for lr in lrs:\n",
    "    for est in n_estimators:\n",
    "        xg_model = XGBClassifier(learning_rate = lr, n_estimators = est)\n",
    "        xg_model.fit(X_train, y_train)\n",
    "        preds = xg_model.predict(X_test)\n",
    "        acc = accuracy_score(preds, y_test)\n",
    "        r = [lr,n_estimators, acc]\n",
    "        print(r)\n",
    "        results.append(r)\n"
   ]
  },
  {
   "cell_type": "code",
   "execution_count": 684,
   "metadata": {},
   "outputs": [
    {
     "data": {
      "text/html": [
       "<div>\n",
       "<style scoped>\n",
       "    .dataframe tbody tr th:only-of-type {\n",
       "        vertical-align: middle;\n",
       "    }\n",
       "\n",
       "    .dataframe tbody tr th {\n",
       "        vertical-align: top;\n",
       "    }\n",
       "\n",
       "    .dataframe thead th {\n",
       "        text-align: right;\n",
       "    }\n",
       "</style>\n",
       "<table border=\"1\" class=\"dataframe\">\n",
       "  <thead>\n",
       "    <tr style=\"text-align: right;\">\n",
       "      <th></th>\n",
       "      <th>LR</th>\n",
       "      <th>N_Est</th>\n",
       "      <th>ACC</th>\n",
       "    </tr>\n",
       "  </thead>\n",
       "  <tbody>\n",
       "    <tr>\n",
       "      <th>4</th>\n",
       "      <td>0.01</td>\n",
       "      <td>[50, 100, 200]</td>\n",
       "      <td>0.794</td>\n",
       "    </tr>\n",
       "    <tr>\n",
       "      <th>0</th>\n",
       "      <td>0.10</td>\n",
       "      <td>[50, 100, 200]</td>\n",
       "      <td>0.788</td>\n",
       "    </tr>\n",
       "    <tr>\n",
       "      <th>1</th>\n",
       "      <td>0.10</td>\n",
       "      <td>[50, 100, 200]</td>\n",
       "      <td>0.786</td>\n",
       "    </tr>\n",
       "    <tr>\n",
       "      <th>2</th>\n",
       "      <td>0.10</td>\n",
       "      <td>[50, 100, 200]</td>\n",
       "      <td>0.786</td>\n",
       "    </tr>\n",
       "    <tr>\n",
       "      <th>5</th>\n",
       "      <td>0.01</td>\n",
       "      <td>[50, 100, 200]</td>\n",
       "      <td>0.786</td>\n",
       "    </tr>\n",
       "  </tbody>\n",
       "</table>\n",
       "</div>"
      ],
      "text/plain": [
       "     LR           N_Est    ACC\n",
       "4  0.01  [50, 100, 200]  0.794\n",
       "0  0.10  [50, 100, 200]  0.788\n",
       "1  0.10  [50, 100, 200]  0.786\n",
       "2  0.10  [50, 100, 200]  0.786\n",
       "5  0.01  [50, 100, 200]  0.786"
      ]
     },
     "execution_count": 684,
     "metadata": {},
     "output_type": "execute_result"
    }
   ],
   "source": [
    "results = pd.DataFrame(data=results, columns = [\"LR\", \"N_Est\", \"ACC\"])\n",
    "results = results.sort_values(by=['ACC'], ascending=False)\n",
    "results.head()"
   ]
  },
  {
   "cell_type": "markdown",
   "metadata": {},
   "source": [
    "### LR with scikit"
   ]
  },
  {
   "cell_type": "code",
   "execution_count": 685,
   "metadata": {},
   "outputs": [
    {
     "name": "stdout",
     "output_type": "stream",
     "text": [
      "0.796\n"
     ]
    }
   ],
   "source": [
    "from sklearn.linear_model import LogisticRegression as LR\n",
    "\n",
    "lr_model = LR().fit(X_train, y_train)\n",
    "pred = lr_model.predict(X_test)\n",
    "acc = accuracy_score(pred, y_test)\n",
    "print(acc)"
   ]
  },
  {
   "cell_type": "markdown",
   "metadata": {},
   "source": [
    "## Conclusions\n",
    "\n",
    "Even though Cat Embedding offer new ways to work with tabular data for dnn, it doesn't do miracles and we should always try different models"
   ]
  },
  {
   "cell_type": "markdown",
   "metadata": {},
   "source": [
    "Results:\n",
    "\n",
    "LR from Scratch: 74%\n",
    "\n",
    "Pytorch Model: 52%\n",
    "\n",
    "XGB: 79.4%\n",
    "\n",
    "LR scikit: 79.6%\n",
    "\n"
   ]
  },
  {
   "cell_type": "code",
   "execution_count": 734,
   "metadata": {},
   "outputs": [
    {
     "data": {
      "image/png": "[encoded data removed]",
      "text/plain": [
       "<Figure size 432x288 with 1 Axes>"
      ]
     },
     "metadata": {
      "needs_background": "light"
     },
     "output_type": "display_data"
    }
   ],
   "source": [
    "fig = plt.figure()\n",
    "ax = fig.add_axes([0,0,1,1])\n",
    "mo = ['LR from Scratch', 'Pytorch with Cat Emb', 'XGB', 'LR scikit']\n",
    "scores = [74,52,79.4,79.6]\n",
    "ax.bar(mo,scores)\n",
    "plt.xticks(rotation=90)\n",
    "plt.ylabel('Accuracy')\n",
    "plt.xlabel('Model')\n",
    "plt.show()"
   ]
  },
  {
   "cell_type": "code",
   "execution_count": null,
   "metadata": {},
   "outputs": [],
   "source": []
  }
 ],
 "metadata": {
  "kernelspec": {
   "display_name": "Python 3",
   "language": "python",
   "name": "python3"
  },
  "language_info": {
   "codemirror_mode": {
    "name": "ipython",
    "version": 3
   },
   "file_extension": ".py",
   "mimetype": "text/x-python",
   "name": "python",
   "nbconvert_exporter": "python",
   "pygments_lexer": "ipython3",
   "version": "3.8.6"
  }
 },
 "nbformat": 4,
 "nbformat_minor": 4
}
